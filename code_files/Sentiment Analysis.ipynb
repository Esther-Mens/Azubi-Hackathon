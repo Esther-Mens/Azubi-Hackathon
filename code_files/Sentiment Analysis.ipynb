{
 "cells": [
  {
   "cell_type": "markdown",
   "metadata": {},
   "source": [
    "## Import Libraries and Dataset"
   ]
  },
  {
   "cell_type": "code",
   "execution_count": 1,
   "metadata": {},
   "outputs": [],
   "source": [
    "import pandas as pd\n",
    "import numpy as np\n",
    "import matplotlib.pyplot as plt"
   ]
  },
  {
   "cell_type": "code",
   "execution_count": 2,
   "metadata": {},
   "outputs": [
    {
     "data": {
      "text/plain": [
       "(15000, 12)"
      ]
     },
     "execution_count": 2,
     "metadata": {},
     "output_type": "execute_result"
    }
   ],
   "source": [
    "df = pd.read_csv('contain_nana.csv')\n",
    "df.shape"
   ]
  },
  {
   "cell_type": "markdown",
   "metadata": {},
   "source": [
    "### Data Cleaning"
   ]
  },
  {
   "cell_type": "code",
   "execution_count": 3,
   "metadata": {},
   "outputs": [
    {
     "data": {
      "text/plain": [
       "(15000, 12)"
      ]
     },
     "execution_count": 3,
     "metadata": {},
     "output_type": "execute_result"
    }
   ],
   "source": [
    "df.drop_duplicates(inplace=True)\n",
    "df.shape"
   ]
  },
  {
   "cell_type": "code",
   "execution_count": 4,
   "metadata": {},
   "outputs": [
    {
     "data": {
      "text/plain": [
       "Index(['date', 'username', 'to', 'replies', 'retweets', 'favorites', 'text',\n",
       "       'geo', 'mentions', 'hashtags', 'id', 'permalink'],\n",
       "      dtype='object')"
      ]
     },
     "execution_count": 4,
     "metadata": {},
     "output_type": "execute_result"
    }
   ],
   "source": [
    "df.columns"
   ]
  },
  {
   "cell_type": "code",
   "execution_count": 5,
   "metadata": {},
   "outputs": [
    {
     "data": {
      "text/plain": [
       "date         14858\n",
       "username      6005\n",
       "to            2135\n",
       "replies         61\n",
       "retweets       124\n",
       "favorites      355\n",
       "text         13932\n",
       "geo              0\n",
       "mentions       685\n",
       "hashtags      1790\n",
       "id           15000\n",
       "permalink    15000\n",
       "dtype: int64"
      ]
     },
     "execution_count": 5,
     "metadata": {},
     "output_type": "execute_result"
    }
   ],
   "source": [
    "df.nunique()"
   ]
  },
  {
   "cell_type": "code",
   "execution_count": 6,
   "metadata": {},
   "outputs": [
    {
     "data": {
      "text/plain": [
       "date             0\n",
       "username         0\n",
       "to            9003\n",
       "replies          0\n",
       "retweets         0\n",
       "favorites        0\n",
       "text             0\n",
       "geo          15000\n",
       "mentions     13462\n",
       "hashtags     10442\n",
       "id               0\n",
       "permalink        0\n",
       "dtype: int64"
      ]
     },
     "execution_count": 6,
     "metadata": {},
     "output_type": "execute_result"
    }
   ],
   "source": [
    "df.isnull().sum()"
   ]
  },
  {
   "cell_type": "code",
   "execution_count": 7,
   "metadata": {},
   "outputs": [
    {
     "data": {
      "text/html": [
       "<div>\n",
       "<style scoped>\n",
       "    .dataframe tbody tr th:only-of-type {\n",
       "        vertical-align: middle;\n",
       "    }\n",
       "\n",
       "    .dataframe tbody tr th {\n",
       "        vertical-align: top;\n",
       "    }\n",
       "\n",
       "    .dataframe thead th {\n",
       "        text-align: right;\n",
       "    }\n",
       "</style>\n",
       "<table border=\"1\" class=\"dataframe\">\n",
       "  <thead>\n",
       "    <tr style=\"text-align: right;\">\n",
       "      <th></th>\n",
       "      <th>date</th>\n",
       "      <th>username</th>\n",
       "      <th>replies</th>\n",
       "      <th>retweets</th>\n",
       "      <th>favorites</th>\n",
       "      <th>text</th>\n",
       "      <th>hashtags</th>\n",
       "    </tr>\n",
       "  </thead>\n",
       "  <tbody>\n",
       "    <tr>\n",
       "      <th>0</th>\n",
       "      <td>2020-09-06 23:37:55</td>\n",
       "      <td>BMaashaallah</td>\n",
       "      <td>0</td>\n",
       "      <td>0</td>\n",
       "      <td>1</td>\n",
       "      <td>Astroturf started and completed by the visiona...</td>\n",
       "      <td>#4More4Nana #Wepraypic</td>\n",
       "    </tr>\n",
       "    <tr>\n",
       "      <th>1</th>\n",
       "      <td>2020-09-06 23:26:45</td>\n",
       "      <td>BraCudjoe1</td>\n",
       "      <td>1</td>\n",
       "      <td>0</td>\n",
       "      <td>3</td>\n",
       "      <td>Nana Akufo Addo refused to vote for my crush t...</td>\n",
       "      <td>NaN</td>\n",
       "    </tr>\n",
       "    <tr>\n",
       "      <th>2</th>\n",
       "      <td>2020-09-06 23:20:27</td>\n",
       "      <td>SethAmpem</td>\n",
       "      <td>0</td>\n",
       "      <td>0</td>\n",
       "      <td>2</td>\n",
       "      <td>H.E. Nana Addo Dankwa Akufo-Addo, The Presiden...</td>\n",
       "      <td>NaN</td>\n",
       "    </tr>\n",
       "    <tr>\n",
       "      <th>3</th>\n",
       "      <td>2020-09-06 23:19:16</td>\n",
       "      <td>CPAG2020</td>\n",
       "      <td>0</td>\n",
       "      <td>0</td>\n",
       "      <td>0</td>\n",
       "      <td>SO WHO HAS AN IMPERVIOUS SKIN: NANA ADDO OR JO...</td>\n",
       "      <td>NaN</td>\n",
       "    </tr>\n",
       "    <tr>\n",
       "      <th>4</th>\n",
       "      <td>2020-09-06 23:10:10</td>\n",
       "      <td>romeoparkah27</td>\n",
       "      <td>0</td>\n",
       "      <td>0</td>\n",
       "      <td>0</td>\n",
       "      <td>Quick reminder..Nana Addo the president of the...</td>\n",
       "      <td>NaN</td>\n",
       "    </tr>\n",
       "  </tbody>\n",
       "</table>\n",
       "</div>"
      ],
      "text/plain": [
       "                  date       username  replies  retweets  favorites  \\\n",
       "0  2020-09-06 23:37:55   BMaashaallah        0         0          1   \n",
       "1  2020-09-06 23:26:45     BraCudjoe1        1         0          3   \n",
       "2  2020-09-06 23:20:27      SethAmpem        0         0          2   \n",
       "3  2020-09-06 23:19:16       CPAG2020        0         0          0   \n",
       "4  2020-09-06 23:10:10  romeoparkah27        0         0          0   \n",
       "\n",
       "                                                text                hashtags  \n",
       "0  Astroturf started and completed by the visiona...  #4More4Nana #Wepraypic  \n",
       "1  Nana Akufo Addo refused to vote for my crush t...                     NaN  \n",
       "2  H.E. Nana Addo Dankwa Akufo-Addo, The Presiden...                     NaN  \n",
       "3  SO WHO HAS AN IMPERVIOUS SKIN: NANA ADDO OR JO...                     NaN  \n",
       "4  Quick reminder..Nana Addo the president of the...                     NaN  "
      ]
     },
     "execution_count": 7,
     "metadata": {},
     "output_type": "execute_result"
    }
   ],
   "source": [
    "#dropping columns that have null values and those that will not be used in the analysis\n",
    "df.drop(['to','geo','mentions','id','permalink'], axis = 1, inplace = True )\n",
    "df.head()"
   ]
  },
  {
   "cell_type": "markdown",
   "metadata": {},
   "source": [
    "## Getting Sentiments Using textblob"
   ]
  },
  {
   "cell_type": "markdown",
   "metadata": {},
   "source": [
    "#### Steps\n",
    "1. Clean Data: This is to remove symbols and non alphabets that may be present in the tweet but does give meaning to it.\n",
    "2. Tokenize the data\n",
    "3. Normalizing data is done to ensure that different forms of a particular word are represented as one. For instannce **ran**,**run** and **running** are different variation of the word. Normalisation helps represent all these forms by a single form **run**. There are two main form of Normalizing data. These are\n",
    "Stemming: removing affixes from words and representing it with its root word\n",
    "Lemmatization: normalizes a word with the context of vocabulary and morphological analysis of words in text\n",
    "4. Get sentiment"
   ]
  },
  {
   "cell_type": "markdown",
   "metadata": {},
   "source": [
    "### Nana Addo"
   ]
  },
  {
   "cell_type": "code",
   "execution_count": 8,
   "metadata": {},
   "outputs": [],
   "source": [
    "import re\n",
    "from nltk.tag import pos_tag\n",
    "from nltk.stem.wordnet import WordNetLemmatizer\n",
    "from nltk.corpus import stopwords\n",
    "import string\n",
    "import nltk\n",
    "from nltk.tokenize import word_tokenize\n",
    "from textblob import TextBlob"
   ]
  },
  {
   "cell_type": "code",
   "execution_count": 10,
   "metadata": {},
   "outputs": [
    {
     "name": "stdout",
     "output_type": "stream",
     "text": [
      "Total Positive Tweets: 5993\n",
      "Total Negative Tweets: 2492\n",
      "Total Neutral tweets: 6515\n"
     ]
    }
   ],
   "source": [
    "def clean_tweet(tweet):\n",
    "    review = re.sub('[^a-zA-Z]', ' ', tweet) #replaces symbols, numbers with space\n",
    "    review = review.lower()\n",
    "    #review = review.split()\n",
    "    cleaned_tokens = []\n",
    "    for word, tag in pos_tag(word_tokenize(review)):\n",
    "        stop_words = stopwords.words('english')\n",
    "        if tag.startswith('NN'):\n",
    "            pos = 'n'\n",
    "        elif tag.startswith('VB'):\n",
    "            pos = 'v'\n",
    "        else:\n",
    "            pos = 'a'\n",
    "        lemmatizer = WordNetLemmatizer()\n",
    "        word = lemmatizer.lemmatize(word, pos)\n",
    "        \n",
    "        if len(word) > 0 and word not in string.punctuation and word.lower() not in stop_words:\n",
    "            cleaned_tokens.append(word.lower())\n",
    "    return ' '.join(cleaned_tokens)\n",
    "\n",
    "def get_tweet_sentiment(tweet): \n",
    "    # create TextBlob object of passed tweet text \n",
    "    analysis = TextBlob(clean_tweet(tweet)) \n",
    "    # set sentiment \n",
    "    if analysis.sentiment.polarity > 0: \n",
    "        return 'positive'\n",
    "    elif analysis.sentiment.polarity == 0: \n",
    "        return 'neutral'\n",
    "    else: \n",
    "        return 'negative'\n",
    "def main():\n",
    "    global sampled_tweets\n",
    "    sampled_tweets = []\n",
    "    for index,row in df[['text']].iterrows():\n",
    "        parsed_tweet = {}\n",
    "        parsed_tweet['text'] = row['text']\n",
    "        parsed_tweet['sentiment'] = get_tweet_sentiment(row['text'])\n",
    "        sampled_tweets.append(parsed_tweet)\n",
    "    global ptweets, ntweets, neutral_tweets\n",
    "\n",
    "    ptweets = [tweet for tweet in sampled_tweets if tweet['sentiment'] == 'positive']\n",
    "    ntweets = [tweet for tweet in sampled_tweets if tweet['sentiment'] == 'negative']\n",
    "    neutral_tweets = [tweet for tweet in sampled_tweets if tweet['sentiment'] == 'neutral']\n",
    "\n",
    "    print(f'Total Positive Tweets: {len(ptweets)}')\n",
    "    print(f'Total Negative Tweets: {len(ntweets)}') \n",
    "    print(\"Total Neutral tweets: {}\".format((len(sampled_tweets) - (len(ntweets)+len(ptweets))))) \n",
    "\n",
    "        \n",
    "         \n",
    "if __name__ == \"__main__\": \n",
    "    # calling main function \n",
    "    main() "
   ]
  },
  {
   "cell_type": "code",
   "execution_count": 16,
   "metadata": {},
   "outputs": [
    {
     "data": {
      "image/png": "[encoded data removed]",
      "text/plain": [
       "<Figure size 432x288 with 1 Axes>"
      ]
     },
     "metadata": {
      "needs_background": "light"
     },
     "output_type": "display_data"
    }
   ],
   "source": [
    "df2 = pd.DataFrame.from_dict(sampled_tweets)\n",
    "df2.groupby('sentiment').count().plot(kind='bar')\n",
    "\n",
    "plt.xlabel('Sentiment', fontsize=12)\n",
    "plt.ylabel('Total Number', fontsize=12)\n",
    "plt.title('Sentiment Analysis on Nana Akufo-Addo', fontsize=14)\n",
    "plt.show()"
   ]
  },
  {
   "cell_type": "markdown",
   "metadata": {},
   "source": [
    "### J M"
   ]
  },
  {
   "cell_type": "code",
   "execution_count": 17,
   "metadata": {},
   "outputs": [
    {
     "data": {
      "text/plain": [
       "(15000, 12)"
      ]
     },
     "execution_count": 17,
     "metadata": {},
     "output_type": "execute_result"
    }
   ],
   "source": [
    "df_jm = pd.read_csv('contains_mahama.csv')\n",
    "df_jm.shape"
   ]
  },
  {
   "cell_type": "code",
   "execution_count": 18,
   "metadata": {},
   "outputs": [
    {
     "data": {
      "text/html": [
       "<div>\n",
       "<style scoped>\n",
       "    .dataframe tbody tr th:only-of-type {\n",
       "        vertical-align: middle;\n",
       "    }\n",
       "\n",
       "    .dataframe tbody tr th {\n",
       "        vertical-align: top;\n",
       "    }\n",
       "\n",
       "    .dataframe thead th {\n",
       "        text-align: right;\n",
       "    }\n",
       "</style>\n",
       "<table border=\"1\" class=\"dataframe\">\n",
       "  <thead>\n",
       "    <tr style=\"text-align: right;\">\n",
       "      <th></th>\n",
       "      <th>date</th>\n",
       "      <th>username</th>\n",
       "      <th>replies</th>\n",
       "      <th>retweets</th>\n",
       "      <th>favorites</th>\n",
       "      <th>text</th>\n",
       "      <th>hashtags</th>\n",
       "    </tr>\n",
       "  </thead>\n",
       "  <tbody>\n",
       "    <tr>\n",
       "      <th>0</th>\n",
       "      <td>2020-09-06 23:20:44</td>\n",
       "      <td>edemagbana</td>\n",
       "      <td>2</td>\n",
       "      <td>6</td>\n",
       "      <td>21</td>\n",
       "      <td>John Mahama speaks ahead of Manifesto Launch. ...</td>\n",
       "      <td>NaN</td>\n",
       "    </tr>\n",
       "    <tr>\n",
       "      <th>1</th>\n",
       "      <td>2020-08-20 06:30:06</td>\n",
       "      <td>JLCPCB</td>\n",
       "      <td>18</td>\n",
       "      <td>85</td>\n",
       "      <td>923</td>\n",
       "      <td>Only $2 for PCB Prototype, 24 Hours Fast Turn ...</td>\n",
       "      <td>NaN</td>\n",
       "    </tr>\n",
       "    <tr>\n",
       "      <th>2</th>\n",
       "      <td>2020-09-06 23:19:16</td>\n",
       "      <td>CPAG2020</td>\n",
       "      <td>0</td>\n",
       "      <td>0</td>\n",
       "      <td>0</td>\n",
       "      <td>SO WHO HAS AN IMPERVIOUS SKIN: NANA ADDO OR JO...</td>\n",
       "      <td>NaN</td>\n",
       "    </tr>\n",
       "    <tr>\n",
       "      <th>3</th>\n",
       "      <td>2020-09-06 23:04:22</td>\n",
       "      <td>AfoakwaOsikani</td>\n",
       "      <td>8</td>\n",
       "      <td>23</td>\n",
       "      <td>95</td>\n",
       "      <td>\"My message to John Mahama is that you cannot ...</td>\n",
       "      <td>#4More4Nana</td>\n",
       "    </tr>\n",
       "    <tr>\n",
       "      <th>4</th>\n",
       "      <td>2020-09-06 21:44:56</td>\n",
       "      <td>globe_paces</td>\n",
       "      <td>0</td>\n",
       "      <td>2</td>\n",
       "      <td>2</td>\n",
       "      <td>I know how to do it, Akufo-Addo doesn’t, that’...</td>\n",
       "      <td>NaN</td>\n",
       "    </tr>\n",
       "  </tbody>\n",
       "</table>\n",
       "</div>"
      ],
      "text/plain": [
       "                  date        username  replies  retweets  favorites  \\\n",
       "0  2020-09-06 23:20:44      edemagbana        2         6         21   \n",
       "1  2020-08-20 06:30:06          JLCPCB       18        85        923   \n",
       "2  2020-09-06 23:19:16        CPAG2020        0         0          0   \n",
       "3  2020-09-06 23:04:22  AfoakwaOsikani        8        23         95   \n",
       "4  2020-09-06 21:44:56     globe_paces        0         2          2   \n",
       "\n",
       "                                                text     hashtags  \n",
       "0  John Mahama speaks ahead of Manifesto Launch. ...          NaN  \n",
       "1  Only $2 for PCB Prototype, 24 Hours Fast Turn ...          NaN  \n",
       "2  SO WHO HAS AN IMPERVIOUS SKIN: NANA ADDO OR JO...          NaN  \n",
       "3  \"My message to John Mahama is that you cannot ...  #4More4Nana  \n",
       "4  I know how to do it, Akufo-Addo doesn’t, that’...          NaN  "
      ]
     },
     "execution_count": 18,
     "metadata": {},
     "output_type": "execute_result"
    }
   ],
   "source": [
    "#dropping columns that have null values and those that will not be used in the analysis\n",
    "df_jm.drop(['to','geo','mentions','id','permalink'], axis = 1, inplace = True )\n",
    "df_jm.head()"
   ]
  },
  {
   "cell_type": "code",
   "execution_count": 19,
   "metadata": {},
   "outputs": [
    {
     "name": "stdout",
     "output_type": "stream",
     "text": [
      "Total Positive Tweets: 6223\n",
      "Total Negative Tweets: 2397\n",
      "Total Neutral tweets: 6380\n"
     ]
    }
   ],
   "source": [
    "def clean_tweet(tweet):\n",
    "    review = re.sub('[^a-zA-Z]', ' ', tweet) #replaces symbols, numbers with space\n",
    "    review = review.lower()\n",
    "    #review = review.split()\n",
    "    cleaned_tokens = []\n",
    "    for word, tag in pos_tag(word_tokenize(review)):\n",
    "        stop_words = stopwords.words('english')\n",
    "        if tag.startswith('NN'):\n",
    "            pos = 'n'\n",
    "        elif tag.startswith('VB'):\n",
    "            pos = 'v'\n",
    "        else:\n",
    "            pos = 'a'\n",
    "        lemmatizer = WordNetLemmatizer()\n",
    "        word = lemmatizer.lemmatize(word, pos)\n",
    "        \n",
    "        if len(word) > 0 and word not in string.punctuation and word.lower() not in stop_words:\n",
    "            cleaned_tokens.append(word.lower())\n",
    "    return ' '.join(cleaned_tokens)\n",
    "\n",
    "def get_tweet_sentiment(tweet): \n",
    "    # create TextBlob object of passed tweet text \n",
    "    analysis = TextBlob(clean_tweet(tweet)) \n",
    "    # set sentiment \n",
    "    if analysis.sentiment.polarity > 0: \n",
    "        return 'positive'\n",
    "    elif analysis.sentiment.polarity == 0: \n",
    "        return 'neutral'\n",
    "    else: \n",
    "        return 'negative'\n",
    "def main():\n",
    "    global sampled_tweets\n",
    "    sampled_tweets = []\n",
    "    for index,row in df_jm[['text']].iterrows():\n",
    "        parsed_tweet = {}\n",
    "        parsed_tweet['text'] = row['text']\n",
    "        parsed_tweet['sentiment'] = get_tweet_sentiment(row['text'])\n",
    "        sampled_tweets.append(parsed_tweet)\n",
    "    global ptweets, ntweets, neutral_tweets\n",
    "\n",
    "    ptweets = [tweet for tweet in sampled_tweets if tweet['sentiment'] == 'positive']\n",
    "    ntweets = [tweet for tweet in sampled_tweets if tweet['sentiment'] == 'negative']\n",
    "    neutral_tweets = [tweet for tweet in sampled_tweets if tweet['sentiment'] == 'neutral']\n",
    "\n",
    "    print(f'Total Positive Tweets: {len(ptweets)}')\n",
    "    print(f'Total Negative Tweets: {len(ntweets)}') \n",
    "    print(\"Total Neutral tweets: {}\".format((len(sampled_tweets) - (len(ntweets)+len(ptweets))))) \n",
    "\n",
    "        \n",
    "         \n",
    "if __name__ == \"__main__\": \n",
    "    # calling main function \n",
    "    main() "
   ]
  },
  {
   "cell_type": "code",
   "execution_count": 20,
   "metadata": {},
   "outputs": [
    {
     "data": {
      "image/png": "[encoded data removed]",
      "text/plain": [
       "<Figure size 432x288 with 1 Axes>"
      ]
     },
     "metadata": {
      "needs_background": "light"
     },
     "output_type": "display_data"
    }
   ],
   "source": [
    "df2 = pd.DataFrame.from_dict(sampled_tweets)\n",
    "df2.groupby('sentiment').count().plot(kind='bar')\n",
    "\n",
    "plt.xlabel('Sentiment', fontsize=12)\n",
    "plt.ylabel('Total Number', fontsize=12)\n",
    "plt.title('Sentiment Analysis on John Mahama', fontsize=14)\n",
    "plt.show()"
   ]
  },
  {
   "cell_type": "code",
   "execution_count": null,
   "metadata": {},
   "outputs": [],
   "source": []
  }
 ],
 "metadata": {
  "kernelspec": {
   "display_name": "Python 3",
   "language": "python",
   "name": "python3"
  },
  "language_info": {
   "codemirror_mode": {
    "name": "ipython",
    "version": 3
   },
   "file_extension": ".py",
   "mimetype": "text/x-python",
   "name": "python",
   "nbconvert_exporter": "python",
   "pygments_lexer": "ipython3",
   "version": "3.7.6"
  }
 },
 "nbformat": 4,
 "nbformat_minor": 4
}
