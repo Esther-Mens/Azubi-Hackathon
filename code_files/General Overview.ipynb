{
 "cells": [
  {
   "cell_type": "markdown",
   "metadata": {},
   "source": [
    "# Analysing tweets for political account"
   ]
  },
  {
   "cell_type": "markdown",
   "metadata": {},
   "source": [
    "**This Notbook provides a basic insight into the Ghana's political twitter activities and the reactions to them**\n",
    "Tweets from the flagbearer and running mates of the two most popular political parties in Ghana as well as tweets from their official twitter handles of where sampled. Tweets samples were dated as back as *May 1st* to *7th September* this year"
   ]
  },
  {
   "cell_type": "markdown",
   "metadata": {},
   "source": [
    "## Importing Libraries and Datasets"
   ]
  },
  {
   "cell_type": "code",
   "execution_count": 3,
   "metadata": {},
   "outputs": [
    {
     "name": "stdout",
     "output_type": "stream",
     "text": [
      "Libraries Imported\n"
     ]
    }
   ],
   "source": [
    "import matplotlib.pyplot as plt\n",
    "import numpy as np\n",
    "import pandas as pd\n",
    "import os\n",
    "import plotly.graph_objects as go\n",
    "from plotly.subplots import make_subplots\n",
    "os.chdir('C://Users/Aristocratic/Desktop/Hackathon Project/Optimized-Modified-GetOldTweets3-OMGOT/GetOldTweets3-0.0.10')\n",
    "print('Libraries Imported')"
   ]
  },
  {
   "cell_type": "code",
   "execution_count": 4,
   "metadata": {},
   "outputs": [],
   "source": [
    "#Importing datasets\n",
    "df_nana = pd.read_csv('Nana Addo.csv')\n",
    "df_npp = pd.read_csv('NPP_GH.csv')\n",
    "df_bawumia = pd.read_csv('Bawumia.csv')\n",
    "df_mahama = pd.read_csv('JM.csv')\n",
    "df_jane = pd.read_csv('Prof Jane Naana.csv')\n",
    "df_ndc = pd.read_csv('Official NDC.csv')"
   ]
  },
  {
   "cell_type": "code",
   "execution_count": 12,
   "metadata": {},
   "outputs": [
    {
     "data": {
      "text/plain": [
       "(1392, 12)"
      ]
     },
     "execution_count": 12,
     "metadata": {},
     "output_type": "execute_result"
    }
   ],
   "source": [
    "# Combining dataset to form one big dataframe\n",
    "frames = [df_nana,df_npp,df_bawumia,df_mahama,df_jane,df_ndc]\n",
    "df = pd.concat(frames)\n",
    "df.shape"
   ]
  },
  {
   "cell_type": "markdown",
   "metadata": {},
   "source": [
    "### Data Cleaning"
   ]
  },
  {
   "cell_type": "code",
   "execution_count": 16,
   "metadata": {},
   "outputs": [],
   "source": [
    "df.drop_duplicates(inplace=True)"
   ]
  },
  {
   "cell_type": "code",
   "execution_count": 17,
   "metadata": {},
   "outputs": [
    {
     "data": {
      "text/plain": [
       "Index(['date', 'username', 'to', 'replies', 'retweets', 'favorites', 'text',\n",
       "       'geo', 'mentions', 'hashtags', 'id', 'permalink'],\n",
       "      dtype='object')"
      ]
     },
     "execution_count": 17,
     "metadata": {},
     "output_type": "execute_result"
    }
   ],
   "source": [
    "df.columns"
   ]
  },
  {
   "cell_type": "code",
   "execution_count": 18,
   "metadata": {},
   "outputs": [
    {
     "data": {
      "text/plain": [
       "date         1287\n",
       "username        6\n",
       "to             39\n",
       "replies       214\n",
       "retweets      329\n",
       "favorites     699\n",
       "text         1391\n",
       "geo             0\n",
       "mentions       71\n",
       "hashtags      203\n",
       "id           1392\n",
       "permalink    1392\n",
       "dtype: int64"
      ]
     },
     "execution_count": 18,
     "metadata": {},
     "output_type": "execute_result"
    }
   ],
   "source": [
    "df.nunique()"
   ]
  },
  {
   "cell_type": "code",
   "execution_count": 19,
   "metadata": {},
   "outputs": [
    {
     "data": {
      "text/plain": [
       "date            0\n",
       "username        0\n",
       "to           1342\n",
       "replies         0\n",
       "retweets        0\n",
       "favorites       0\n",
       "text            0\n",
       "geo          1392\n",
       "mentions     1146\n",
       "hashtags      511\n",
       "id              0\n",
       "permalink       0\n",
       "dtype: int64"
      ]
     },
     "execution_count": 19,
     "metadata": {},
     "output_type": "execute_result"
    }
   ],
   "source": [
    "df.isnull().sum()"
   ]
  },
  {
   "cell_type": "code",
   "execution_count": 20,
   "metadata": {},
   "outputs": [
    {
     "data": {
      "text/html": [
       "<div>\n",
       "<style scoped>\n",
       "    .dataframe tbody tr th:only-of-type {\n",
       "        vertical-align: middle;\n",
       "    }\n",
       "\n",
       "    .dataframe tbody tr th {\n",
       "        vertical-align: top;\n",
       "    }\n",
       "\n",
       "    .dataframe thead th {\n",
       "        text-align: right;\n",
       "    }\n",
       "</style>\n",
       "<table border=\"1\" class=\"dataframe\">\n",
       "  <thead>\n",
       "    <tr style=\"text-align: right;\">\n",
       "      <th></th>\n",
       "      <th>date</th>\n",
       "      <th>username</th>\n",
       "      <th>replies</th>\n",
       "      <th>retweets</th>\n",
       "      <th>favorites</th>\n",
       "      <th>text</th>\n",
       "      <th>hashtags</th>\n",
       "    </tr>\n",
       "  </thead>\n",
       "  <tbody>\n",
       "    <tr>\n",
       "      <th>0</th>\n",
       "      <td>2020-09-04 07:56:53</td>\n",
       "      <td>NAkufoAddo</td>\n",
       "      <td>194</td>\n",
       "      <td>647</td>\n",
       "      <td>5708</td>\n",
       "      <td>pic.twitter.com/EVW0W8U8Cp</td>\n",
       "      <td>NaN</td>\n",
       "    </tr>\n",
       "    <tr>\n",
       "      <th>1</th>\n",
       "      <td>2020-09-02 08:43:38</td>\n",
       "      <td>NAkufoAddo</td>\n",
       "      <td>446</td>\n",
       "      <td>1421</td>\n",
       "      <td>10754</td>\n",
       "      <td>pic.twitter.com/bgQGfpzdoV</td>\n",
       "      <td>NaN</td>\n",
       "    </tr>\n",
       "    <tr>\n",
       "      <th>2</th>\n",
       "      <td>2020-09-01 14:17:16</td>\n",
       "      <td>NAkufoAddo</td>\n",
       "      <td>168</td>\n",
       "      <td>462</td>\n",
       "      <td>3895</td>\n",
       "      <td>#FinancialSectorCleanUppic.twitter.com/cPzDgYPBtt</td>\n",
       "      <td>#FinancialSectorCleanUppic</td>\n",
       "    </tr>\n",
       "    <tr>\n",
       "      <th>3</th>\n",
       "      <td>2020-09-01 06:00:11</td>\n",
       "      <td>NAkufoAddo</td>\n",
       "      <td>126</td>\n",
       "      <td>262</td>\n",
       "      <td>2475</td>\n",
       "      <td>#97DaysToVote #4MoreToDoMoreForYoupic.twitter....</td>\n",
       "      <td>#97DaysToVote #4MoreToDoMoreForYoupic</td>\n",
       "    </tr>\n",
       "    <tr>\n",
       "      <th>4</th>\n",
       "      <td>2020-09-01 01:54:45</td>\n",
       "      <td>NAkufoAddo</td>\n",
       "      <td>536</td>\n",
       "      <td>941</td>\n",
       "      <td>9574</td>\n",
       "      <td>We have cleaned the financial sector mess we i...</td>\n",
       "      <td>#FinancialSectorCleanUp</td>\n",
       "    </tr>\n",
       "  </tbody>\n",
       "</table>\n",
       "</div>"
      ],
      "text/plain": [
       "                  date    username  replies  retweets  favorites  \\\n",
       "0  2020-09-04 07:56:53  NAkufoAddo      194       647       5708   \n",
       "1  2020-09-02 08:43:38  NAkufoAddo      446      1421      10754   \n",
       "2  2020-09-01 14:17:16  NAkufoAddo      168       462       3895   \n",
       "3  2020-09-01 06:00:11  NAkufoAddo      126       262       2475   \n",
       "4  2020-09-01 01:54:45  NAkufoAddo      536       941       9574   \n",
       "\n",
       "                                                text  \\\n",
       "0                         pic.twitter.com/EVW0W8U8Cp   \n",
       "1                         pic.twitter.com/bgQGfpzdoV   \n",
       "2  #FinancialSectorCleanUppic.twitter.com/cPzDgYPBtt   \n",
       "3  #97DaysToVote #4MoreToDoMoreForYoupic.twitter....   \n",
       "4  We have cleaned the financial sector mess we i...   \n",
       "\n",
       "                                hashtags  \n",
       "0                                    NaN  \n",
       "1                                    NaN  \n",
       "2             #FinancialSectorCleanUppic  \n",
       "3  #97DaysToVote #4MoreToDoMoreForYoupic  \n",
       "4                #FinancialSectorCleanUp  "
      ]
     },
     "execution_count": 20,
     "metadata": {},
     "output_type": "execute_result"
    }
   ],
   "source": [
    "#dropping columns that have null values and those that will not be used in the analysis\n",
    "df.drop(['to','geo','mentions','id','permalink'], axis = 1, inplace = True )\n",
    "df.head()"
   ]
  },
  {
   "cell_type": "code",
   "execution_count": 48,
   "metadata": {},
   "outputs": [],
   "source": [
    "#Save check point to a csv file\n",
    "df.to_csv('political_twitter_combined.csv', index= False)"
   ]
  },
  {
   "cell_type": "markdown",
   "metadata": {},
   "source": [
    "## Reactions to Tweets"
   ]
  },
  {
   "cell_type": "code",
   "execution_count": 21,
   "metadata": {},
   "outputs": [
    {
     "data": {
      "text/html": [
       "<div>\n",
       "<style scoped>\n",
       "    .dataframe tbody tr th:only-of-type {\n",
       "        vertical-align: middle;\n",
       "    }\n",
       "\n",
       "    .dataframe tbody tr th {\n",
       "        vertical-align: top;\n",
       "    }\n",
       "\n",
       "    .dataframe thead th {\n",
       "        text-align: right;\n",
       "    }\n",
       "</style>\n",
       "<table border=\"1\" class=\"dataframe\">\n",
       "  <thead>\n",
       "    <tr style=\"text-align: right;\">\n",
       "      <th></th>\n",
       "      <th>replies</th>\n",
       "      <th>retweets</th>\n",
       "      <th>favorites</th>\n",
       "    </tr>\n",
       "    <tr>\n",
       "      <th>username</th>\n",
       "      <th></th>\n",
       "      <th></th>\n",
       "      <th></th>\n",
       "    </tr>\n",
       "  </thead>\n",
       "  <tbody>\n",
       "    <tr>\n",
       "      <th>NAkufoAddo</th>\n",
       "      <td>29853</td>\n",
       "      <td>89980</td>\n",
       "      <td>637993</td>\n",
       "    </tr>\n",
       "    <tr>\n",
       "      <th>JDMahama</th>\n",
       "      <td>17343</td>\n",
       "      <td>32306</td>\n",
       "      <td>248775</td>\n",
       "    </tr>\n",
       "    <tr>\n",
       "      <th>NJOAgyemang</th>\n",
       "      <td>3917</td>\n",
       "      <td>17358</td>\n",
       "      <td>128098</td>\n",
       "    </tr>\n",
       "    <tr>\n",
       "      <th>NPP_GH</th>\n",
       "      <td>5425</td>\n",
       "      <td>24351</td>\n",
       "      <td>117244</td>\n",
       "    </tr>\n",
       "    <tr>\n",
       "      <th>OfficialNDCGh</th>\n",
       "      <td>6616</td>\n",
       "      <td>13924</td>\n",
       "      <td>98492</td>\n",
       "    </tr>\n",
       "    <tr>\n",
       "      <th>MBawumia</th>\n",
       "      <td>905</td>\n",
       "      <td>3085</td>\n",
       "      <td>17596</td>\n",
       "    </tr>\n",
       "  </tbody>\n",
       "</table>\n",
       "</div>"
      ],
      "text/plain": [
       "               replies  retweets  favorites\n",
       "username                                   \n",
       "NAkufoAddo       29853     89980     637993\n",
       "JDMahama         17343     32306     248775\n",
       "NJOAgyemang       3917     17358     128098\n",
       "NPP_GH            5425     24351     117244\n",
       "OfficialNDCGh     6616     13924      98492\n",
       "MBawumia           905      3085      17596"
      ]
     },
     "execution_count": 21,
     "metadata": {},
     "output_type": "execute_result"
    }
   ],
   "source": [
    "#Most reacted to political account\n",
    "new_df = df.groupby('username').sum().sort_values('favorites', ascending=False)\n",
    "new_df"
   ]
  },
  {
   "cell_type": "markdown",
   "metadata": {},
   "source": [
    "The table above details the public reactions to the political accounts we are monitoring. Now we will delve deeper by comparing them on indiviual levels. Thus **NPP** vs corresponding **NDC**."
   ]
  },
  {
   "cell_type": "markdown",
   "metadata": {},
   "source": [
    "## Head to Head Comparison\n",
    "### HE Nana Addo vrs Ex Prez. Mahama"
   ]
  },
  {
   "cell_type": "code",
   "execution_count": 22,
   "metadata": {},
   "outputs": [
    {
     "data": {
      "text/html": [
       "<div>\n",
       "<style scoped>\n",
       "    .dataframe tbody tr th:only-of-type {\n",
       "        vertical-align: middle;\n",
       "    }\n",
       "\n",
       "    .dataframe tbody tr th {\n",
       "        vertical-align: top;\n",
       "    }\n",
       "\n",
       "    .dataframe thead th {\n",
       "        text-align: right;\n",
       "    }\n",
       "</style>\n",
       "<table border=\"1\" class=\"dataframe\">\n",
       "  <thead>\n",
       "    <tr style=\"text-align: right;\">\n",
       "      <th></th>\n",
       "      <th>replies</th>\n",
       "      <th>retweets</th>\n",
       "      <th>favorites</th>\n",
       "    </tr>\n",
       "    <tr>\n",
       "      <th>username</th>\n",
       "      <th></th>\n",
       "      <th></th>\n",
       "      <th></th>\n",
       "    </tr>\n",
       "  </thead>\n",
       "  <tbody>\n",
       "    <tr>\n",
       "      <th>NAkufoAddo</th>\n",
       "      <td>29853</td>\n",
       "      <td>89980</td>\n",
       "      <td>637993</td>\n",
       "    </tr>\n",
       "    <tr>\n",
       "      <th>JDMahama</th>\n",
       "      <td>17343</td>\n",
       "      <td>32306</td>\n",
       "      <td>248775</td>\n",
       "    </tr>\n",
       "  </tbody>\n",
       "</table>\n",
       "</div>"
      ],
      "text/plain": [
       "            replies  retweets  favorites\n",
       "username                                \n",
       "NAkufoAddo    29853     89980     637993\n",
       "JDMahama      17343     32306     248775"
      ]
     },
     "execution_count": 22,
     "metadata": {},
     "output_type": "execute_result"
    }
   ],
   "source": [
    "new_df.loc['NAkufoAddo':'JDMahama']"
   ]
  },
  {
   "cell_type": "code",
   "execution_count": 26,
   "metadata": {},
   "outputs": [
    {
     "data": {
      "image/png": "[encoded data removed]",
      "text/plain": [
       "<Figure size 432x288 with 1 Axes>"
      ]
     },
     "metadata": {
      "needs_background": "light"
     },
     "output_type": "display_data"
    }
   ],
   "source": [
    "new_df.loc['NAkufoAddo':'JDMahama',:].plot(kind = 'bar', color=('blue','yellow','red'))\n",
    "plt.title('Nana Addo Versus Mahama', fontsize= 14)\n",
    "plt.xlabel('Username', fontsize = 12)\n",
    "plt.ylabel('Number of reactions', fontsize= 12)\n",
    "\n",
    "plt.show()"
   ]
  },
  {
   "cell_type": "markdown",
   "metadata": {},
   "source": [
    "### VP Bawumia Vs Prof. Jane Naana"
   ]
  },
  {
   "cell_type": "code",
   "execution_count": 27,
   "metadata": {},
   "outputs": [
    {
     "data": {
      "text/html": [
       "<div>\n",
       "<style scoped>\n",
       "    .dataframe tbody tr th:only-of-type {\n",
       "        vertical-align: middle;\n",
       "    }\n",
       "\n",
       "    .dataframe tbody tr th {\n",
       "        vertical-align: top;\n",
       "    }\n",
       "\n",
       "    .dataframe thead th {\n",
       "        text-align: right;\n",
       "    }\n",
       "</style>\n",
       "<table border=\"1\" class=\"dataframe\">\n",
       "  <thead>\n",
       "    <tr style=\"text-align: right;\">\n",
       "      <th></th>\n",
       "      <th>replies</th>\n",
       "      <th>retweets</th>\n",
       "      <th>favorites</th>\n",
       "    </tr>\n",
       "    <tr>\n",
       "      <th>username</th>\n",
       "      <th></th>\n",
       "      <th></th>\n",
       "      <th></th>\n",
       "    </tr>\n",
       "  </thead>\n",
       "  <tbody>\n",
       "    <tr>\n",
       "      <th>MBawumia</th>\n",
       "      <td>905</td>\n",
       "      <td>3085</td>\n",
       "      <td>17596</td>\n",
       "    </tr>\n",
       "    <tr>\n",
       "      <th>NJOAgyemang</th>\n",
       "      <td>3917</td>\n",
       "      <td>17358</td>\n",
       "      <td>128098</td>\n",
       "    </tr>\n",
       "  </tbody>\n",
       "</table>\n",
       "</div>"
      ],
      "text/plain": [
       "             replies  retweets  favorites\n",
       "username                                 \n",
       "MBawumia         905      3085      17596\n",
       "NJOAgyemang     3917     17358     128098"
      ]
     },
     "execution_count": 27,
     "metadata": {},
     "output_type": "execute_result"
    }
   ],
   "source": [
    "frames = [new_df.loc[['MBawumia']], new_df.loc[['NJOAgyemang']]]\n",
    "new_df_b = pd.concat(frames)\n",
    "new_df_b"
   ]
  },
  {
   "cell_type": "code",
   "execution_count": 28,
   "metadata": {},
   "outputs": [
    {
     "data": {
      "image/png": "[encoded data removed]",
      "text/plain": [
       "<Figure size 432x288 with 1 Axes>"
      ]
     },
     "metadata": {
      "needs_background": "light"
     },
     "output_type": "display_data"
    }
   ],
   "source": [
    "new_df_b.plot(kind = 'bar', color=['black','red','green'])\n",
    "plt.title('Dr.Bawumia Versus Prof. Jane ', fontsize=14)\n",
    "plt.xlabel('Username', fontsize=12)\n",
    "plt.ylabel('Number of reactions',fontsize=12)\n",
    "\n",
    "plt.show()"
   ]
  },
  {
   "cell_type": "markdown",
   "metadata": {},
   "source": [
    "### NPP_Gh vrs Official_NDC"
   ]
  },
  {
   "cell_type": "code",
   "execution_count": 29,
   "metadata": {},
   "outputs": [
    {
     "data": {
      "text/html": [
       "<div>\n",
       "<style scoped>\n",
       "    .dataframe tbody tr th:only-of-type {\n",
       "        vertical-align: middle;\n",
       "    }\n",
       "\n",
       "    .dataframe tbody tr th {\n",
       "        vertical-align: top;\n",
       "    }\n",
       "\n",
       "    .dataframe thead th {\n",
       "        text-align: right;\n",
       "    }\n",
       "</style>\n",
       "<table border=\"1\" class=\"dataframe\">\n",
       "  <thead>\n",
       "    <tr style=\"text-align: right;\">\n",
       "      <th></th>\n",
       "      <th>replies</th>\n",
       "      <th>retweets</th>\n",
       "      <th>favorites</th>\n",
       "    </tr>\n",
       "    <tr>\n",
       "      <th>username</th>\n",
       "      <th></th>\n",
       "      <th></th>\n",
       "      <th></th>\n",
       "    </tr>\n",
       "  </thead>\n",
       "  <tbody>\n",
       "    <tr>\n",
       "      <th>NPP_GH</th>\n",
       "      <td>5425</td>\n",
       "      <td>24351</td>\n",
       "      <td>117244</td>\n",
       "    </tr>\n",
       "    <tr>\n",
       "      <th>OfficialNDCGh</th>\n",
       "      <td>6616</td>\n",
       "      <td>13924</td>\n",
       "      <td>98492</td>\n",
       "    </tr>\n",
       "  </tbody>\n",
       "</table>\n",
       "</div>"
      ],
      "text/plain": [
       "               replies  retweets  favorites\n",
       "username                                   \n",
       "NPP_GH            5425     24351     117244\n",
       "OfficialNDCGh     6616     13924      98492"
      ]
     },
     "execution_count": 29,
     "metadata": {},
     "output_type": "execute_result"
    }
   ],
   "source": [
    "frames = [new_df.loc[['NPP_GH']], new_df.loc[['OfficialNDCGh']]]\n",
    "new_df_c = pd.concat(frames)\n",
    "new_df_c"
   ]
  },
  {
   "cell_type": "code",
   "execution_count": 30,
   "metadata": {},
   "outputs": [
    {
     "data": {
      "image/png": "[encoded data removed]",
      "text/plain": [
       "<Figure size 432x288 with 1 Axes>"
      ]
     },
     "metadata": {
      "needs_background": "light"
     },
     "output_type": "display_data"
    }
   ],
   "source": [
    "new_df_c.plot(kind = 'bar', color=['black','red','green'])\n",
    "plt.title('NPP_GH vrs Official_NDC', fontsize=14)\n",
    "plt.xlabel('Username',fontsize=12)\n",
    "plt.ylabel('Number of reactions',fontsize=12)\n",
    "\n",
    "plt.show()"
   ]
  },
  {
   "cell_type": "markdown",
   "metadata": {},
   "source": [
    "### Time Series Graph\n",
    "In this section, we will model a time series graph to help us ascertain how the twitter activites of the political parties are changing as election day draws nearer"
   ]
  },
  {
   "cell_type": "code",
   "execution_count": 31,
   "metadata": {},
   "outputs": [],
   "source": [
    "df['date'] = pd.to_datetime(df['date'])\n",
    "df['tweet_date'] = df.loc[:, 'date'].apply(lambda s: s.date())\n",
    "df['tweet_year'] = df.loc[:, 'date'].apply(lambda s: s.year)\n",
    "df['tweet_month'] = df.loc[:, 'date'].apply(lambda s: s.month_name())"
   ]
  },
  {
   "cell_type": "code",
   "execution_count": 32,
   "metadata": {},
   "outputs": [
    {
     "data": {
      "application/vnd.plotly.v1+json": {
       "config": {
        "plotlyServerURL": "https://plot.ly"
       },
       "data": [
        {
         "mode": "lines",
         "name": "All",
         "type": "scatter",
         "x": [
          "2020-05-01",
          "2020-05-02",
          "2020-05-03",
          "2020-05-04",
          "2020-05-05",
          "2020-05-06",
          "2020-05-07",
          "2020-05-08",
          "2020-05-09",
          "2020-05-10",
          "2020-05-11",
          "2020-05-12",
          "2020-05-13",
          "2020-05-14",
          "2020-05-15",
          "2020-05-16",
          "2020-05-17",
          "2020-05-18",
          "2020-05-19",
          "2020-05-20",
          "2020-05-21",
          "2020-05-22",
          "2020-05-23",
          "2020-05-24",
          "2020-05-25",
          "2020-05-27",
          "2020-05-28",
          "2020-05-29",
          "2020-05-30",
          "2020-05-31",
          "2020-06-01",
          "2020-06-02",
          "2020-06-03",
          "2020-06-04",
          "2020-06-05",
          "2020-06-07",
          "2020-06-08",
          "2020-06-09",
          "2020-06-10",
          "2020-06-11",
          "2020-06-12",
          "2020-06-13",
          "2020-06-14",
          "2020-06-15",
          "2020-06-16",
          "2020-06-17",
          "2020-06-18",
          "2020-06-19",
          "2020-06-20",
          "2020-06-21",
          "2020-06-22",
          "2020-06-24",
          "2020-06-25",
          "2020-06-26",
          "2020-06-27",
          "2020-06-28",
          "2020-06-29",
          "2020-06-30",
          "2020-07-01",
          "2020-07-02",
          "2020-07-03",
          "2020-07-04",
          "2020-07-05",
          "2020-07-06",
          "2020-07-07",
          "2020-07-08",
          "2020-07-09",
          "2020-07-10",
          "2020-07-11",
          "2020-07-12",
          "2020-07-13",
          "2020-07-14",
          "2020-07-15",
          "2020-07-16",
          "2020-07-17",
          "2020-07-18",
          "2020-07-19",
          "2020-07-20",
          "2020-07-21",
          "2020-07-22",
          "2020-07-23",
          "2020-07-24",
          "2020-07-25",
          "2020-07-26",
          "2020-07-27",
          "2020-07-28",
          "2020-07-29",
          "2020-07-30",
          "2020-07-31",
          "2020-08-01",
          "2020-08-02",
          "2020-08-03",
          "2020-08-04",
          "2020-08-05",
          "2020-08-06",
          "2020-08-07",
          "2020-08-09",
          "2020-08-10",
          "2020-08-11",
          "2020-08-12",
          "2020-08-13",
          "2020-08-14",
          "2020-08-15",
          "2020-08-16",
          "2020-08-17",
          "2020-08-18",
          "2020-08-19",
          "2020-08-20",
          "2020-08-21",
          "2020-08-22",
          "2020-08-23",
          "2020-08-24",
          "2020-08-25",
          "2020-08-26",
          "2020-08-27",
          "2020-08-28",
          "2020-08-29",
          "2020-08-30",
          "2020-08-31",
          "2020-09-01",
          "2020-09-02",
          "2020-09-03",
          "2020-09-04",
          "2020-09-05",
          "2020-09-06"
         ],
         "xaxis": "x",
         "y": [
          13,
          18,
          22,
          30,
          36,
          43,
          49,
          55,
          58,
          64,
          71,
          75,
          78,
          142,
          152,
          156,
          160,
          161,
          163,
          164,
          167,
          173,
          175,
          179,
          180,
          183,
          185,
          188,
          189,
          191,
          195,
          207,
          213,
          215,
          220,
          223,
          226,
          228,
          244,
          247,
          249,
          253,
          258,
          281,
          285,
          290,
          300,
          318,
          321,
          323,
          340,
          345,
          354,
          357,
          363,
          368,
          375,
          385,
          387,
          389,
          393,
          396,
          397,
          402,
          412,
          436,
          440,
          452,
          455,
          463,
          472,
          486,
          494,
          504,
          508,
          514,
          519,
          526,
          534,
          539,
          545,
          556,
          569,
          581,
          594,
          605,
          617,
          624,
          690,
          697,
          700,
          707,
          711,
          730,
          736,
          741,
          748,
          757,
          764,
          790,
          799,
          804,
          807,
          813,
          823,
          912,
          927,
          938,
          980,
          1149,
          1157,
          1161,
          1215,
          1252,
          1286,
          1288,
          1291,
          1296,
          1304,
          1340,
          1357,
          1367,
          1374,
          1387,
          1392
         ],
         "yaxis": "y"
        }
       ],
       "layout": {
        "annotations": [
         {
          "font": {
           "size": 16
          },
          "showarrow": false,
          "text": "T",
          "x": 0.5,
          "xanchor": "center",
          "xref": "paper",
          "y": 1,
          "yanchor": "bottom",
          "yref": "paper"
         }
        ],
        "template": {
         "data": {
          "bar": [
           {
            "error_x": {
             "color": "#2a3f5f"
            },
            "error_y": {
             "color": "#2a3f5f"
            },
            "marker": {
             "line": {
              "color": "#E5ECF6",
              "width": 0.5
             }
            },
            "type": "bar"
           }
          ],
          "barpolar": [
           {
            "marker": {
             "line": {
              "color": "#E5ECF6",
              "width": 0.5
             }
            },
            "type": "barpolar"
           }
          ],
          "carpet": [
           {
            "aaxis": {
             "endlinecolor": "#2a3f5f",
             "gridcolor": "white",
             "linecolor": "white",
             "minorgridcolor": "white",
             "startlinecolor": "#2a3f5f"
            },
            "baxis": {
             "endlinecolor": "#2a3f5f",
             "gridcolor": "white",
             "linecolor": "white",
             "minorgridcolor": "white",
             "startlinecolor": "#2a3f5f"
            },
            "type": "carpet"
           }
          ],
          "choropleth": [
           {
            "colorbar": {
             "outlinewidth": 0,
             "ticks": ""
            },
            "type": "choropleth"
           }
          ],
          "contour": [
           {
            "colorbar": {
             "outlinewidth": 0,
             "ticks": ""
            },
            "colorscale": [
             [
              0,
              "#0d0887"
             ],
             [
              0.1111111111111111,
              "#46039f"
             ],
             [
              0.2222222222222222,
              "#7201a8"
             ],
             [
              0.3333333333333333,
              "#9c179e"
             ],
             [
              0.4444444444444444,
              "#bd3786"
             ],
             [
              0.5555555555555556,
              "#d8576b"
             ],
             [
              0.6666666666666666,
              "#ed7953"
             ],
             [
              0.7777777777777778,
              "#fb9f3a"
             ],
             [
              0.8888888888888888,
              "#fdca26"
             ],
             [
              1,
              "#f0f921"
             ]
            ],
            "type": "contour"
           }
          ],
          "contourcarpet": [
           {
            "colorbar": {
             "outlinewidth": 0,
             "ticks": ""
            },
            "type": "contourcarpet"
           }
          ],
          "heatmap": [
           {
            "colorbar": {
             "outlinewidth": 0,
             "ticks": ""
            },
            "colorscale": [
             [
              0,
              "#0d0887"
             ],
             [
              0.1111111111111111,
              "#46039f"
             ],
             [
              0.2222222222222222,
              "#7201a8"
             ],
             [
              0.3333333333333333,
              "#9c179e"
             ],
             [
              0.4444444444444444,
              "#bd3786"
             ],
             [
              0.5555555555555556,
              "#d8576b"
             ],
             [
              0.6666666666666666,
              "#ed7953"
             ],
             [
              0.7777777777777778,
              "#fb9f3a"
             ],
             [
              0.8888888888888888,
              "#fdca26"
             ],
             [
              1,
              "#f0f921"
             ]
            ],
            "type": "heatmap"
           }
          ],
          "heatmapgl": [
           {
            "colorbar": {
             "outlinewidth": 0,
             "ticks": ""
            },
            "colorscale": [
             [
              0,
              "#0d0887"
             ],
             [
              0.1111111111111111,
              "#46039f"
             ],
             [
              0.2222222222222222,
              "#7201a8"
             ],
             [
              0.3333333333333333,
              "#9c179e"
             ],
             [
              0.4444444444444444,
              "#bd3786"
             ],
             [
              0.5555555555555556,
              "#d8576b"
             ],
             [
              0.6666666666666666,
              "#ed7953"
             ],
             [
              0.7777777777777778,
              "#fb9f3a"
             ],
             [
              0.8888888888888888,
              "#fdca26"
             ],
             [
              1,
              "#f0f921"
             ]
            ],
            "type": "heatmapgl"
           }
          ],
          "histogram": [
           {
            "marker": {
             "colorbar": {
              "outlinewidth": 0,
              "ticks": ""
             }
            },
            "type": "histogram"
           }
          ],
          "histogram2d": [
           {
            "colorbar": {
             "outlinewidth": 0,
             "ticks": ""
            },
            "colorscale": [
             [
              0,
              "#0d0887"
             ],
             [
              0.1111111111111111,
              "#46039f"
             ],
             [
              0.2222222222222222,
              "#7201a8"
             ],
             [
              0.3333333333333333,
              "#9c179e"
             ],
             [
              0.4444444444444444,
              "#bd3786"
             ],
             [
              0.5555555555555556,
              "#d8576b"
             ],
             [
              0.6666666666666666,
              "#ed7953"
             ],
             [
              0.7777777777777778,
              "#fb9f3a"
             ],
             [
              0.8888888888888888,
              "#fdca26"
             ],
             [
              1,
              "#f0f921"
             ]
            ],
            "type": "histogram2d"
           }
          ],
          "histogram2dcontour": [
           {
            "colorbar": {
             "outlinewidth": 0,
             "ticks": ""
            },
            "colorscale": [
             [
              0,
              "#0d0887"
             ],
             [
              0.1111111111111111,
              "#46039f"
             ],
             [
              0.2222222222222222,
              "#7201a8"
             ],
             [
              0.3333333333333333,
              "#9c179e"
             ],
             [
              0.4444444444444444,
              "#bd3786"
             ],
             [
              0.5555555555555556,
              "#d8576b"
             ],
             [
              0.6666666666666666,
              "#ed7953"
             ],
             [
              0.7777777777777778,
              "#fb9f3a"
             ],
             [
              0.8888888888888888,
              "#fdca26"
             ],
             [
              1,
              "#f0f921"
             ]
            ],
            "type": "histogram2dcontour"
           }
          ],
          "mesh3d": [
           {
            "colorbar": {
             "outlinewidth": 0,
             "ticks": ""
            },
            "type": "mesh3d"
           }
          ],
          "parcoords": [
           {
            "line": {
             "colorbar": {
              "outlinewidth": 0,
              "ticks": ""
             }
            },
            "type": "parcoords"
           }
          ],
          "pie": [
           {
            "automargin": true,
            "type": "pie"
           }
          ],
          "scatter": [
           {
            "marker": {
             "colorbar": {
              "outlinewidth": 0,
              "ticks": ""
             }
            },
            "type": "scatter"
           }
          ],
          "scatter3d": [
           {
            "line": {
             "colorbar": {
              "outlinewidth": 0,
              "ticks": ""
             }
            },
            "marker": {
             "colorbar": {
              "outlinewidth": 0,
              "ticks": ""
             }
            },
            "type": "scatter3d"
           }
          ],
          "scattercarpet": [
           {
            "marker": {
             "colorbar": {
              "outlinewidth": 0,
              "ticks": ""
             }
            },
            "type": "scattercarpet"
           }
          ],
          "scattergeo": [
           {
            "marker": {
             "colorbar": {
              "outlinewidth": 0,
              "ticks": ""
             }
            },
            "type": "scattergeo"
           }
          ],
          "scattergl": [
           {
            "marker": {
             "colorbar": {
              "outlinewidth": 0,
              "ticks": ""
             }
            },
            "type": "scattergl"
           }
          ],
          "scattermapbox": [
           {
            "marker": {
             "colorbar": {
              "outlinewidth": 0,
              "ticks": ""
             }
            },
            "type": "scattermapbox"
           }
          ],
          "scatterpolar": [
           {
            "marker": {
             "colorbar": {
              "outlinewidth": 0,
              "ticks": ""
             }
            },
            "type": "scatterpolar"
           }
          ],
          "scatterpolargl": [
           {
            "marker": {
             "colorbar": {
              "outlinewidth": 0,
              "ticks": ""
             }
            },
            "type": "scatterpolargl"
           }
          ],
          "scatterternary": [
           {
            "marker": {
             "colorbar": {
              "outlinewidth": 0,
              "ticks": ""
             }
            },
            "type": "scatterternary"
           }
          ],
          "surface": [
           {
            "colorbar": {
             "outlinewidth": 0,
             "ticks": ""
            },
            "colorscale": [
             [
              0,
              "#0d0887"
             ],
             [
              0.1111111111111111,
              "#46039f"
             ],
             [
              0.2222222222222222,
              "#7201a8"
             ],
             [
              0.3333333333333333,
              "#9c179e"
             ],
             [
              0.4444444444444444,
              "#bd3786"
             ],
             [
              0.5555555555555556,
              "#d8576b"
             ],
             [
              0.6666666666666666,
              "#ed7953"
             ],
             [
              0.7777777777777778,
              "#fb9f3a"
             ],
             [
              0.8888888888888888,
              "#fdca26"
             ],
             [
              1,
              "#f0f921"
             ]
            ],
            "type": "surface"
           }
          ],
          "table": [
           {
            "cells": {
             "fill": {
              "color": "#EBF0F8"
             },
             "line": {
              "color": "white"
             }
            },
            "header": {
             "fill": {
              "color": "#C8D4E3"
             },
             "line": {
              "color": "white"
             }
            },
            "type": "table"
           }
          ]
         },
         "layout": {
          "annotationdefaults": {
           "arrowcolor": "#2a3f5f",
           "arrowhead": 0,
           "arrowwidth": 1
          },
          "coloraxis": {
           "colorbar": {
            "outlinewidth": 0,
            "ticks": ""
           }
          },
          "colorscale": {
           "diverging": [
            [
             0,
             "#8e0152"
            ],
            [
             0.1,
             "#c51b7d"
            ],
            [
             0.2,
             "#de77ae"
            ],
            [
             0.3,
             "#f1b6da"
            ],
            [
             0.4,
             "#fde0ef"
            ],
            [
             0.5,
             "#f7f7f7"
            ],
            [
             0.6,
             "#e6f5d0"
            ],
            [
             0.7,
             "#b8e186"
            ],
            [
             0.8,
             "#7fbc41"
            ],
            [
             0.9,
             "#4d9221"
            ],
            [
             1,
             "#276419"
            ]
           ],
           "sequential": [
            [
             0,
             "#0d0887"
            ],
            [
             0.1111111111111111,
             "#46039f"
            ],
            [
             0.2222222222222222,
             "#7201a8"
            ],
            [
             0.3333333333333333,
             "#9c179e"
            ],
            [
             0.4444444444444444,
             "#bd3786"
            ],
            [
             0.5555555555555556,
             "#d8576b"
            ],
            [
             0.6666666666666666,
             "#ed7953"
            ],
            [
             0.7777777777777778,
             "#fb9f3a"
            ],
            [
             0.8888888888888888,
             "#fdca26"
            ],
            [
             1,
             "#f0f921"
            ]
           ],
           "sequentialminus": [
            [
             0,
             "#0d0887"
            ],
            [
             0.1111111111111111,
             "#46039f"
            ],
            [
             0.2222222222222222,
             "#7201a8"
            ],
            [
             0.3333333333333333,
             "#9c179e"
            ],
            [
             0.4444444444444444,
             "#bd3786"
            ],
            [
             0.5555555555555556,
             "#d8576b"
            ],
            [
             0.6666666666666666,
             "#ed7953"
            ],
            [
             0.7777777777777778,
             "#fb9f3a"
            ],
            [
             0.8888888888888888,
             "#fdca26"
            ],
            [
             1,
             "#f0f921"
            ]
           ]
          },
          "colorway": [
           "#636efa",
           "#EF553B",
           "#00cc96",
           "#ab63fa",
           "#FFA15A",
           "#19d3f3",
           "#FF6692",
           "#B6E880",
           "#FF97FF",
           "#FECB52"
          ],
          "font": {
           "color": "#2a3f5f"
          },
          "geo": {
           "bgcolor": "white",
           "lakecolor": "white",
           "landcolor": "#E5ECF6",
           "showlakes": true,
           "showland": true,
           "subunitcolor": "white"
          },
          "hoverlabel": {
           "align": "left"
          },
          "hovermode": "closest",
          "mapbox": {
           "style": "light"
          },
          "paper_bgcolor": "white",
          "plot_bgcolor": "#E5ECF6",
          "polar": {
           "angularaxis": {
            "gridcolor": "white",
            "linecolor": "white",
            "ticks": ""
           },
           "bgcolor": "#E5ECF6",
           "radialaxis": {
            "gridcolor": "white",
            "linecolor": "white",
            "ticks": ""
           }
          },
          "scene": {
           "xaxis": {
            "backgroundcolor": "#E5ECF6",
            "gridcolor": "white",
            "gridwidth": 2,
            "linecolor": "white",
            "showbackground": true,
            "ticks": "",
            "zerolinecolor": "white"
           },
           "yaxis": {
            "backgroundcolor": "#E5ECF6",
            "gridcolor": "white",
            "gridwidth": 2,
            "linecolor": "white",
            "showbackground": true,
            "ticks": "",
            "zerolinecolor": "white"
           },
           "zaxis": {
            "backgroundcolor": "#E5ECF6",
            "gridcolor": "white",
            "gridwidth": 2,
            "linecolor": "white",
            "showbackground": true,
            "ticks": "",
            "zerolinecolor": "white"
           }
          },
          "shapedefaults": {
           "line": {
            "color": "#2a3f5f"
           }
          },
          "ternary": {
           "aaxis": {
            "gridcolor": "white",
            "linecolor": "white",
            "ticks": ""
           },
           "baxis": {
            "gridcolor": "white",
            "linecolor": "white",
            "ticks": ""
           },
           "bgcolor": "#E5ECF6",
           "caxis": {
            "gridcolor": "white",
            "linecolor": "white",
            "ticks": ""
           }
          },
          "title": {
           "x": 0.05
          },
          "xaxis": {
           "automargin": true,
           "gridcolor": "white",
           "linecolor": "white",
           "ticks": "",
           "title": {
            "standoff": 15
           },
           "zerolinecolor": "white",
           "zerolinewidth": 2
          },
          "yaxis": {
           "automargin": true,
           "gridcolor": "white",
           "linecolor": "white",
           "ticks": "",
           "title": {
            "standoff": 15
           },
           "zerolinecolor": "white",
           "zerolinewidth": 2
          }
         }
        },
        "xaxis": {
         "anchor": "y",
         "domain": [
          0,
          1
         ]
        },
        "yaxis": {
         "anchor": "x",
         "domain": [
          0,
          1
         ]
        }
       }
      },
      "text/html": [
       "<div>\n",
       "        \n",
       "        \n",
       "            <div id=\"98bfc843-b8f5-4991-8b90-c2300237cd85\" class=\"plotly-graph-div\" style=\"height:525px; width:100%;\"></div>\n",
       "            <script type=\"text/javascript\">\n",
       "                require([\"plotly\"], function(Plotly) {\n",
       "                    window.PLOTLYENV=window.PLOTLYENV || {};\n",
       "                    \n",
       "                if (document.getElementById(\"98bfc843-b8f5-4991-8b90-c2300237cd85\")) {\n",
       "                    Plotly.newPlot(\n",
       "                        '98bfc843-b8f5-4991-8b90-c2300237cd85',\n",
       "                        [{\"mode\": \"lines\", \"name\": \"All\", \"type\": \"scatter\", \"x\": [\"2020-05-01\", \"2020-05-02\", \"2020-05-03\", \"2020-05-04\", \"2020-05-05\", \"2020-05-06\", \"2020-05-07\", \"2020-05-08\", \"2020-05-09\", \"2020-05-10\", \"2020-05-11\", \"2020-05-12\", \"2020-05-13\", \"2020-05-14\", \"2020-05-15\", \"2020-05-16\", \"2020-05-17\", \"2020-05-18\", \"2020-05-19\", \"2020-05-20\", \"2020-05-21\", \"2020-05-22\", \"2020-05-23\", \"2020-05-24\", \"2020-05-25\", \"2020-05-27\", \"2020-05-28\", \"2020-05-29\", \"2020-05-30\", \"2020-05-31\", \"2020-06-01\", \"2020-06-02\", \"2020-06-03\", \"2020-06-04\", \"2020-06-05\", \"2020-06-07\", \"2020-06-08\", \"2020-06-09\", \"2020-06-10\", \"2020-06-11\", \"2020-06-12\", \"2020-06-13\", \"2020-06-14\", \"2020-06-15\", \"2020-06-16\", \"2020-06-17\", \"2020-06-18\", \"2020-06-19\", \"2020-06-20\", \"2020-06-21\", \"2020-06-22\", \"2020-06-24\", \"2020-06-25\", \"2020-06-26\", \"2020-06-27\", \"2020-06-28\", \"2020-06-29\", \"2020-06-30\", \"2020-07-01\", \"2020-07-02\", \"2020-07-03\", \"2020-07-04\", \"2020-07-05\", \"2020-07-06\", \"2020-07-07\", \"2020-07-08\", \"2020-07-09\", \"2020-07-10\", \"2020-07-11\", \"2020-07-12\", \"2020-07-13\", \"2020-07-14\", \"2020-07-15\", \"2020-07-16\", \"2020-07-17\", \"2020-07-18\", \"2020-07-19\", \"2020-07-20\", \"2020-07-21\", \"2020-07-22\", \"2020-07-23\", \"2020-07-24\", \"2020-07-25\", \"2020-07-26\", \"2020-07-27\", \"2020-07-28\", \"2020-07-29\", \"2020-07-30\", \"2020-07-31\", \"2020-08-01\", \"2020-08-02\", \"2020-08-03\", \"2020-08-04\", \"2020-08-05\", \"2020-08-06\", \"2020-08-07\", \"2020-08-09\", \"2020-08-10\", \"2020-08-11\", \"2020-08-12\", \"2020-08-13\", \"2020-08-14\", \"2020-08-15\", \"2020-08-16\", \"2020-08-17\", \"2020-08-18\", \"2020-08-19\", \"2020-08-20\", \"2020-08-21\", \"2020-08-22\", \"2020-08-23\", \"2020-08-24\", \"2020-08-25\", \"2020-08-26\", \"2020-08-27\", \"2020-08-28\", \"2020-08-29\", \"2020-08-30\", \"2020-08-31\", \"2020-09-01\", \"2020-09-02\", \"2020-09-03\", \"2020-09-04\", \"2020-09-05\", \"2020-09-06\"], \"xaxis\": \"x\", \"y\": [13, 18, 22, 30, 36, 43, 49, 55, 58, 64, 71, 75, 78, 142, 152, 156, 160, 161, 163, 164, 167, 173, 175, 179, 180, 183, 185, 188, 189, 191, 195, 207, 213, 215, 220, 223, 226, 228, 244, 247, 249, 253, 258, 281, 285, 290, 300, 318, 321, 323, 340, 345, 354, 357, 363, 368, 375, 385, 387, 389, 393, 396, 397, 402, 412, 436, 440, 452, 455, 463, 472, 486, 494, 504, 508, 514, 519, 526, 534, 539, 545, 556, 569, 581, 594, 605, 617, 624, 690, 697, 700, 707, 711, 730, 736, 741, 748, 757, 764, 790, 799, 804, 807, 813, 823, 912, 927, 938, 980, 1149, 1157, 1161, 1215, 1252, 1286, 1288, 1291, 1296, 1304, 1340, 1357, 1367, 1374, 1387, 1392], \"yaxis\": \"y\"}],\n",
       "                        {\"annotations\": [{\"font\": {\"size\": 16}, \"showarrow\": false, \"text\": \"T\", \"x\": 0.5, \"xanchor\": \"center\", \"xref\": \"paper\", \"y\": 1.0, \"yanchor\": \"bottom\", \"yref\": \"paper\"}], \"template\": {\"data\": {\"bar\": [{\"error_x\": {\"color\": \"#2a3f5f\"}, \"error_y\": {\"color\": \"#2a3f5f\"}, \"marker\": {\"line\": {\"color\": \"#E5ECF6\", \"width\": 0.5}}, \"type\": \"bar\"}], \"barpolar\": [{\"marker\": {\"line\": {\"color\": \"#E5ECF6\", \"width\": 0.5}}, \"type\": \"barpolar\"}], \"carpet\": [{\"aaxis\": {\"endlinecolor\": \"#2a3f5f\", \"gridcolor\": \"white\", \"linecolor\": \"white\", \"minorgridcolor\": \"white\", \"startlinecolor\": \"#2a3f5f\"}, \"baxis\": {\"endlinecolor\": \"#2a3f5f\", \"gridcolor\": \"white\", \"linecolor\": \"white\", \"minorgridcolor\": \"white\", \"startlinecolor\": \"#2a3f5f\"}, \"type\": \"carpet\"}], \"choropleth\": [{\"colorbar\": {\"outlinewidth\": 0, \"ticks\": \"\"}, \"type\": \"choropleth\"}], \"contour\": [{\"colorbar\": {\"outlinewidth\": 0, \"ticks\": \"\"}, \"colorscale\": [[0.0, \"#0d0887\"], [0.1111111111111111, \"#46039f\"], [0.2222222222222222, \"#7201a8\"], [0.3333333333333333, \"#9c179e\"], [0.4444444444444444, \"#bd3786\"], [0.5555555555555556, \"#d8576b\"], [0.6666666666666666, \"#ed7953\"], [0.7777777777777778, \"#fb9f3a\"], [0.8888888888888888, \"#fdca26\"], [1.0, \"#f0f921\"]], \"type\": \"contour\"}], \"contourcarpet\": [{\"colorbar\": {\"outlinewidth\": 0, \"ticks\": \"\"}, \"type\": \"contourcarpet\"}], \"heatmap\": [{\"colorbar\": {\"outlinewidth\": 0, \"ticks\": \"\"}, \"colorscale\": [[0.0, \"#0d0887\"], [0.1111111111111111, \"#46039f\"], [0.2222222222222222, \"#7201a8\"], [0.3333333333333333, \"#9c179e\"], [0.4444444444444444, \"#bd3786\"], [0.5555555555555556, \"#d8576b\"], [0.6666666666666666, \"#ed7953\"], [0.7777777777777778, \"#fb9f3a\"], [0.8888888888888888, \"#fdca26\"], [1.0, \"#f0f921\"]], \"type\": \"heatmap\"}], \"heatmapgl\": [{\"colorbar\": {\"outlinewidth\": 0, \"ticks\": \"\"}, \"colorscale\": [[0.0, \"#0d0887\"], [0.1111111111111111, \"#46039f\"], [0.2222222222222222, \"#7201a8\"], [0.3333333333333333, \"#9c179e\"], [0.4444444444444444, \"#bd3786\"], [0.5555555555555556, \"#d8576b\"], [0.6666666666666666, \"#ed7953\"], [0.7777777777777778, \"#fb9f3a\"], [0.8888888888888888, \"#fdca26\"], [1.0, \"#f0f921\"]], \"type\": \"heatmapgl\"}], \"histogram\": [{\"marker\": {\"colorbar\": {\"outlinewidth\": 0, \"ticks\": \"\"}}, \"type\": \"histogram\"}], \"histogram2d\": [{\"colorbar\": {\"outlinewidth\": 0, \"ticks\": \"\"}, \"colorscale\": [[0.0, \"#0d0887\"], [0.1111111111111111, \"#46039f\"], [0.2222222222222222, \"#7201a8\"], [0.3333333333333333, \"#9c179e\"], [0.4444444444444444, \"#bd3786\"], [0.5555555555555556, \"#d8576b\"], [0.6666666666666666, \"#ed7953\"], [0.7777777777777778, \"#fb9f3a\"], [0.8888888888888888, \"#fdca26\"], [1.0, \"#f0f921\"]], \"type\": \"histogram2d\"}], \"histogram2dcontour\": [{\"colorbar\": {\"outlinewidth\": 0, \"ticks\": \"\"}, \"colorscale\": [[0.0, \"#0d0887\"], [0.1111111111111111, \"#46039f\"], [0.2222222222222222, \"#7201a8\"], [0.3333333333333333, \"#9c179e\"], [0.4444444444444444, \"#bd3786\"], [0.5555555555555556, \"#d8576b\"], [0.6666666666666666, \"#ed7953\"], [0.7777777777777778, \"#fb9f3a\"], [0.8888888888888888, \"#fdca26\"], [1.0, \"#f0f921\"]], \"type\": \"histogram2dcontour\"}], \"mesh3d\": [{\"colorbar\": {\"outlinewidth\": 0, \"ticks\": \"\"}, \"type\": \"mesh3d\"}], \"parcoords\": [{\"line\": {\"colorbar\": {\"outlinewidth\": 0, \"ticks\": \"\"}}, \"type\": \"parcoords\"}], \"pie\": [{\"automargin\": true, \"type\": \"pie\"}], \"scatter\": [{\"marker\": {\"colorbar\": {\"outlinewidth\": 0, \"ticks\": \"\"}}, \"type\": \"scatter\"}], \"scatter3d\": [{\"line\": {\"colorbar\": {\"outlinewidth\": 0, \"ticks\": \"\"}}, \"marker\": {\"colorbar\": {\"outlinewidth\": 0, \"ticks\": \"\"}}, \"type\": \"scatter3d\"}], \"scattercarpet\": [{\"marker\": {\"colorbar\": {\"outlinewidth\": 0, \"ticks\": \"\"}}, \"type\": \"scattercarpet\"}], \"scattergeo\": [{\"marker\": {\"colorbar\": {\"outlinewidth\": 0, \"ticks\": \"\"}}, \"type\": \"scattergeo\"}], \"scattergl\": [{\"marker\": {\"colorbar\": {\"outlinewidth\": 0, \"ticks\": \"\"}}, \"type\": \"scattergl\"}], \"scattermapbox\": [{\"marker\": {\"colorbar\": {\"outlinewidth\": 0, \"ticks\": \"\"}}, \"type\": \"scattermapbox\"}], \"scatterpolar\": [{\"marker\": {\"colorbar\": {\"outlinewidth\": 0, \"ticks\": \"\"}}, \"type\": \"scatterpolar\"}], \"scatterpolargl\": [{\"marker\": {\"colorbar\": {\"outlinewidth\": 0, \"ticks\": \"\"}}, \"type\": \"scatterpolargl\"}], \"scatterternary\": [{\"marker\": {\"colorbar\": {\"outlinewidth\": 0, \"ticks\": \"\"}}, \"type\": \"scatterternary\"}], \"surface\": [{\"colorbar\": {\"outlinewidth\": 0, \"ticks\": \"\"}, \"colorscale\": [[0.0, \"#0d0887\"], [0.1111111111111111, \"#46039f\"], [0.2222222222222222, \"#7201a8\"], [0.3333333333333333, \"#9c179e\"], [0.4444444444444444, \"#bd3786\"], [0.5555555555555556, \"#d8576b\"], [0.6666666666666666, \"#ed7953\"], [0.7777777777777778, \"#fb9f3a\"], [0.8888888888888888, \"#fdca26\"], [1.0, \"#f0f921\"]], \"type\": \"surface\"}], \"table\": [{\"cells\": {\"fill\": {\"color\": \"#EBF0F8\"}, \"line\": {\"color\": \"white\"}}, \"header\": {\"fill\": {\"color\": \"#C8D4E3\"}, \"line\": {\"color\": \"white\"}}, \"type\": \"table\"}]}, \"layout\": {\"annotationdefaults\": {\"arrowcolor\": \"#2a3f5f\", \"arrowhead\": 0, \"arrowwidth\": 1}, \"coloraxis\": {\"colorbar\": {\"outlinewidth\": 0, \"ticks\": \"\"}}, \"colorscale\": {\"diverging\": [[0, \"#8e0152\"], [0.1, \"#c51b7d\"], [0.2, \"#de77ae\"], [0.3, \"#f1b6da\"], [0.4, \"#fde0ef\"], [0.5, \"#f7f7f7\"], [0.6, \"#e6f5d0\"], [0.7, \"#b8e186\"], [0.8, \"#7fbc41\"], [0.9, \"#4d9221\"], [1, \"#276419\"]], \"sequential\": [[0.0, \"#0d0887\"], [0.1111111111111111, \"#46039f\"], [0.2222222222222222, \"#7201a8\"], [0.3333333333333333, \"#9c179e\"], [0.4444444444444444, \"#bd3786\"], [0.5555555555555556, \"#d8576b\"], [0.6666666666666666, \"#ed7953\"], [0.7777777777777778, \"#fb9f3a\"], [0.8888888888888888, \"#fdca26\"], [1.0, \"#f0f921\"]], \"sequentialminus\": [[0.0, \"#0d0887\"], [0.1111111111111111, \"#46039f\"], [0.2222222222222222, \"#7201a8\"], [0.3333333333333333, \"#9c179e\"], [0.4444444444444444, \"#bd3786\"], [0.5555555555555556, \"#d8576b\"], [0.6666666666666666, \"#ed7953\"], [0.7777777777777778, \"#fb9f3a\"], [0.8888888888888888, \"#fdca26\"], [1.0, \"#f0f921\"]]}, \"colorway\": [\"#636efa\", \"#EF553B\", \"#00cc96\", \"#ab63fa\", \"#FFA15A\", \"#19d3f3\", \"#FF6692\", \"#B6E880\", \"#FF97FF\", \"#FECB52\"], \"font\": {\"color\": \"#2a3f5f\"}, \"geo\": {\"bgcolor\": \"white\", \"lakecolor\": \"white\", \"landcolor\": \"#E5ECF6\", \"showlakes\": true, \"showland\": true, \"subunitcolor\": \"white\"}, \"hoverlabel\": {\"align\": \"left\"}, \"hovermode\": \"closest\", \"mapbox\": {\"style\": \"light\"}, \"paper_bgcolor\": \"white\", \"plot_bgcolor\": \"#E5ECF6\", \"polar\": {\"angularaxis\": {\"gridcolor\": \"white\", \"linecolor\": \"white\", \"ticks\": \"\"}, \"bgcolor\": \"#E5ECF6\", \"radialaxis\": {\"gridcolor\": \"white\", \"linecolor\": \"white\", \"ticks\": \"\"}}, \"scene\": {\"xaxis\": {\"backgroundcolor\": \"#E5ECF6\", \"gridcolor\": \"white\", \"gridwidth\": 2, \"linecolor\": \"white\", \"showbackground\": true, \"ticks\": \"\", \"zerolinecolor\": \"white\"}, \"yaxis\": {\"backgroundcolor\": \"#E5ECF6\", \"gridcolor\": \"white\", \"gridwidth\": 2, \"linecolor\": \"white\", \"showbackground\": true, \"ticks\": \"\", \"zerolinecolor\": \"white\"}, \"zaxis\": {\"backgroundcolor\": \"#E5ECF6\", \"gridcolor\": \"white\", \"gridwidth\": 2, \"linecolor\": \"white\", \"showbackground\": true, \"ticks\": \"\", \"zerolinecolor\": \"white\"}}, \"shapedefaults\": {\"line\": {\"color\": \"#2a3f5f\"}}, \"ternary\": {\"aaxis\": {\"gridcolor\": \"white\", \"linecolor\": \"white\", \"ticks\": \"\"}, \"baxis\": {\"gridcolor\": \"white\", \"linecolor\": \"white\", \"ticks\": \"\"}, \"bgcolor\": \"#E5ECF6\", \"caxis\": {\"gridcolor\": \"white\", \"linecolor\": \"white\", \"ticks\": \"\"}}, \"title\": {\"x\": 0.05}, \"xaxis\": {\"automargin\": true, \"gridcolor\": \"white\", \"linecolor\": \"white\", \"ticks\": \"\", \"title\": {\"standoff\": 15}, \"zerolinecolor\": \"white\", \"zerolinewidth\": 2}, \"yaxis\": {\"automargin\": true, \"gridcolor\": \"white\", \"linecolor\": \"white\", \"ticks\": \"\", \"title\": {\"standoff\": 15}, \"zerolinecolor\": \"white\", \"zerolinewidth\": 2}}}, \"xaxis\": {\"anchor\": \"y\", \"domain\": [0.0, 1.0]}, \"yaxis\": {\"anchor\": \"x\", \"domain\": [0.0, 1.0]}},\n",
       "                        {\"responsive\": true}\n",
       "                    ).then(function(){\n",
       "                            \n",
       "var gd = document.getElementById('98bfc843-b8f5-4991-8b90-c2300237cd85');\n",
       "var x = new MutationObserver(function (mutations, observer) {{\n",
       "        var display = window.getComputedStyle(gd).display;\n",
       "        if (!display || display === 'none') {{\n",
       "            console.log([gd, 'removed!']);\n",
       "            Plotly.purge(gd);\n",
       "            observer.disconnect();\n",
       "        }}\n",
       "}});\n",
       "\n",
       "// Listen for the removal of the full notebook cells\n",
       "var notebookContainer = gd.closest('#notebook-container');\n",
       "if (notebookContainer) {{\n",
       "    x.observe(notebookContainer, {childList: true});\n",
       "}}\n",
       "\n",
       "// Listen for the clearing of the current output cell\n",
       "var outputEl = gd.closest('.output');\n",
       "if (outputEl) {{\n",
       "    x.observe(outputEl, {childList: true});\n",
       "}}\n",
       "\n",
       "                        })\n",
       "                };\n",
       "                });\n",
       "            </script>\n",
       "        </div>"
      ]
     },
     "metadata": {},
     "output_type": "display_data"
    }
   ],
   "source": [
    "subset = df[['tweet_date','username']]\n",
    "subset = subset.sort_values('tweet_date')\n",
    "time_series = subset['tweet_date'].value_counts().reset_index()\n",
    "time_series.columns = ['Date', 'Counts']\n",
    "time_series = time_series.sort_values('Date')\n",
    "time_series['Cum Count'] = time_series['Counts'].cumsum()\n",
    "\n",
    "fig = make_subplots(\n",
    "    rows=1, \n",
    "    cols=1,\n",
    "    subplot_titles=(\"Time series plot of number of tweets\"))\n",
    "df.sort_values('date', inplace=True)\n",
    "fig.append_trace(go.Scatter(\n",
    "    x=time_series['Date'],\n",
    "    y=time_series['Cum Count'],\n",
    "    name=\"All\",\n",
    "    mode='lines'),\n",
    "    row=1, col=1)\n",
    "\n",
    "fig.show()"
   ]
  },
  {
   "cell_type": "markdown",
   "metadata": {},
   "source": [
    "## Word Cloud\n",
    "**Word Cloud** provides information on the most popular word used in a particular passage. In this section, we will analyse text from tweets of accounts of *NPP* and *NDC* to get a fair idea of what they normally tweet about."
   ]
  },
  {
   "cell_type": "code",
   "execution_count": 34,
   "metadata": {},
   "outputs": [],
   "source": [
    "import wordcloud\n",
    "from wordcloud import WordCloud,STOPWORDS\n",
    "from PIL import Image\n",
    "os.chdir('C:/Users/Aristocratic/Desktop/Hackathon Project/')"
   ]
  },
  {
   "cell_type": "markdown",
   "metadata": {},
   "source": [
    "### NPP word cloud"
   ]
  },
  {
   "cell_type": "code",
   "execution_count": 35,
   "metadata": {},
   "outputs": [],
   "source": [
    "new_df = df[(df['username']=='NAkufoAddo') | (df['username']=='NPP_GH') | (df['username']=='MBawumia')]"
   ]
  },
  {
   "cell_type": "code",
   "execution_count": 40,
   "metadata": {},
   "outputs": [],
   "source": [
    "def color_func(word=None, font_size=None,position=None,orientation=None, font_path=None,random_state=None):\n",
    "    h = int(240.0 * 255.0 / 255.0)\n",
    "    s = int(100.0 * 255.0 / 255.0)\n",
    "    #l = int(100.0 * float(random_state.randint(60, 120)) / 250)\n",
    "    l = int(50.0 * 255.0 / 255.0)\n",
    "    return 'hsl({}, {}%, {}%)'.format(h, s, l)"
   ]
  },
  {
   "cell_type": "code",
   "execution_count": 36,
   "metadata": {},
   "outputs": [],
   "source": [
    "with open('npp_wc.txt','w') as f:\n",
    "    for row in new_df.text:\n",
    "        f.write(row)\n",
    "    f.close()"
   ]
  },
  {
   "cell_type": "code",
   "execution_count": 37,
   "metadata": {},
   "outputs": [],
   "source": [
    "npp_text = open('npp_wc.txt', 'r').read()\n",
    "stopwords = set(STOPWORDS)\n",
    "more_stopwords = ['pic', 'twitter', 'com']\n",
    "for word in more_stopwords:\n",
    "    stopwords.add(word)"
   ]
  },
  {
   "cell_type": "code",
   "execution_count": 45,
   "metadata": {},
   "outputs": [
    {
     "data": {
      "image/png": "[encoded data removed]",
      "text/plain": [
       "<Figure size 1008x1296 with 1 Axes>"
      ]
     },
     "metadata": {
      "needs_background": "light"
     },
     "output_type": "display_data"
    }
   ],
   "source": [
    "npp_logo = np.array(Image.open('elephant1.png'))\n",
    "npp_wc = WordCloud(background_color='white',mask=npp_logo, stopwords=stopwords, \n",
    "                   color_func=color_func)\n",
    "npp_wc.generate(npp_text)\n",
    "#display the word cloud\n",
    "fig = plt.figure()\n",
    "fig.set_figwidth(14) # set width\n",
    "fig.set_figheight(18) # set height\n",
    "\n",
    "plt.imshow(npp_wc, interpolation='bilinear')\n",
    "plt.axis('off')\n",
    "plt.show()"
   ]
  },
  {
   "cell_type": "markdown",
   "metadata": {},
   "source": [
    "### NDC Word Cloud"
   ]
  },
  {
   "cell_type": "code",
   "execution_count": 46,
   "metadata": {},
   "outputs": [],
   "source": [
    "new_df = df[(df['username']=='JDMahama')|(df['username']=='NJOAgyemang')|(df['username']=='OfficialNDCGh')]"
   ]
  },
  {
   "cell_type": "code",
   "execution_count": 53,
   "metadata": {},
   "outputs": [],
   "source": [
    "def color_func(word=None, font_size=None,position=None,orientation=None, font_path=None,random_state=None):\n",
    "    h = int(360.0 * 45.0 / 255.0)\n",
    "    s = int(100.0 * 255.0 / 255.0)\n",
    "    l = int(100.0 * float(random_state.randint(60, 120)) / 250)\n",
    "    return 'hsl({}, {}%, {}%)'.format(h, s, l)"
   ]
  },
  {
   "cell_type": "code",
   "execution_count": 47,
   "metadata": {},
   "outputs": [],
   "source": [
    "with open('ndc_wc.txt','w') as f:\n",
    "    for row in new_df.text:\n",
    "        try:\n",
    "            f.write(row)\n",
    "        except UnicodeEncodeError:\n",
    "            pass\n",
    "            \n",
    "    f.close()"
   ]
  },
  {
   "cell_type": "code",
   "execution_count": 48,
   "metadata": {},
   "outputs": [],
   "source": [
    "ndc_text = open('ndc_wc.txt','r').read()\n",
    "stopwords = set(STOPWORDS)\n",
    "more_stopwords = ['twitter','pic','com','tv','will','live']\n",
    "for word in more_stopwords:\n",
    "    stopwords.add(word)"
   ]
  },
  {
   "cell_type": "code",
   "execution_count": 54,
   "metadata": {},
   "outputs": [
    {
     "data": {
      "image/png": "[encoded data removed]",
      "text/plain": [
       "<Figure size 1008x1296 with 1 Axes>"
      ]
     },
     "metadata": {
      "needs_background": "light"
     },
     "output_type": "display_data"
    }
   ],
   "source": [
    "ndc_mask = np.array(Image.open('12950340.jpg'))\n",
    "ndc_wc = WordCloud(background_color='black',mask=ndc_mask, stopwords = stopwords, color_func=color_func)\n",
    "ndc_wc.generate(ndc_text)\n",
    "\n",
    "fig = plt.figure()\n",
    "fig.set_figwidth(14) # set width\n",
    "fig.set_figheight(18) # set height\n",
    "\n",
    "plt.imshow(ndc_wc, interpolation='bilinear')\n",
    "plt.axis('off')\n",
    "plt.show()"
   ]
  },
  {
   "cell_type": "markdown",
   "metadata": {},
   "source": [
    "## Getting Sentiment of Users"
   ]
  },
  {
   "cell_type": "code",
   "execution_count": 9,
   "metadata": {},
   "outputs": [],
   "source": [
    "import re\n",
    "from nltk.tag import pos_tag\n",
    "from nltk.stem.wordnet import WordNetLemmatizer\n",
    "from nltk.corpus import stopwords\n",
    "import string\n",
    "import nltk\n",
    "from nltk.tokenize import word_tokenize\n",
    "from textblob import TextBlob"
   ]
  },
  {
   "cell_type": "markdown",
   "metadata": {},
   "source": [
    "### Nana Akuffo Addo"
   ]
  },
  {
   "cell_type": "code",
   "execution_count": 5,
   "metadata": {},
   "outputs": [
    {
     "data": {
      "text/html": [
       "<div>\n",
       "<style scoped>\n",
       "    .dataframe tbody tr th:only-of-type {\n",
       "        vertical-align: middle;\n",
       "    }\n",
       "\n",
       "    .dataframe tbody tr th {\n",
       "        vertical-align: top;\n",
       "    }\n",
       "\n",
       "    .dataframe thead th {\n",
       "        text-align: right;\n",
       "    }\n",
       "</style>\n",
       "<table border=\"1\" class=\"dataframe\">\n",
       "  <thead>\n",
       "    <tr style=\"text-align: right;\">\n",
       "      <th></th>\n",
       "      <th>date</th>\n",
       "      <th>username</th>\n",
       "      <th>replies</th>\n",
       "      <th>retweets</th>\n",
       "      <th>favorites</th>\n",
       "      <th>text</th>\n",
       "      <th>hashtags</th>\n",
       "    </tr>\n",
       "  </thead>\n",
       "  <tbody>\n",
       "    <tr>\n",
       "      <th>0</th>\n",
       "      <td>2020-09-04 07:56:53</td>\n",
       "      <td>NAkufoAddo</td>\n",
       "      <td>194</td>\n",
       "      <td>647</td>\n",
       "      <td>5708</td>\n",
       "      <td>pic.twitter.com/EVW0W8U8Cp</td>\n",
       "      <td>NaN</td>\n",
       "    </tr>\n",
       "    <tr>\n",
       "      <th>1</th>\n",
       "      <td>2020-09-02 08:43:38</td>\n",
       "      <td>NAkufoAddo</td>\n",
       "      <td>446</td>\n",
       "      <td>1421</td>\n",
       "      <td>10754</td>\n",
       "      <td>pic.twitter.com/bgQGfpzdoV</td>\n",
       "      <td>NaN</td>\n",
       "    </tr>\n",
       "    <tr>\n",
       "      <th>2</th>\n",
       "      <td>2020-09-01 14:17:16</td>\n",
       "      <td>NAkufoAddo</td>\n",
       "      <td>168</td>\n",
       "      <td>462</td>\n",
       "      <td>3895</td>\n",
       "      <td>#FinancialSectorCleanUppic.twitter.com/cPzDgYPBtt</td>\n",
       "      <td>#FinancialSectorCleanUppic</td>\n",
       "    </tr>\n",
       "    <tr>\n",
       "      <th>3</th>\n",
       "      <td>2020-09-01 06:00:11</td>\n",
       "      <td>NAkufoAddo</td>\n",
       "      <td>126</td>\n",
       "      <td>262</td>\n",
       "      <td>2475</td>\n",
       "      <td>#97DaysToVote #4MoreToDoMoreForYoupic.twitter....</td>\n",
       "      <td>#97DaysToVote #4MoreToDoMoreForYoupic</td>\n",
       "    </tr>\n",
       "    <tr>\n",
       "      <th>4</th>\n",
       "      <td>2020-09-01 01:54:45</td>\n",
       "      <td>NAkufoAddo</td>\n",
       "      <td>536</td>\n",
       "      <td>941</td>\n",
       "      <td>9574</td>\n",
       "      <td>We have cleaned the financial sector mess we i...</td>\n",
       "      <td>#FinancialSectorCleanUp</td>\n",
       "    </tr>\n",
       "  </tbody>\n",
       "</table>\n",
       "</div>"
      ],
      "text/plain": [
       "                  date    username  replies  retweets  favorites  \\\n",
       "0  2020-09-04 07:56:53  NAkufoAddo      194       647       5708   \n",
       "1  2020-09-02 08:43:38  NAkufoAddo      446      1421      10754   \n",
       "2  2020-09-01 14:17:16  NAkufoAddo      168       462       3895   \n",
       "3  2020-09-01 06:00:11  NAkufoAddo      126       262       2475   \n",
       "4  2020-09-01 01:54:45  NAkufoAddo      536       941       9574   \n",
       "\n",
       "                                                text  \\\n",
       "0                         pic.twitter.com/EVW0W8U8Cp   \n",
       "1                         pic.twitter.com/bgQGfpzdoV   \n",
       "2  #FinancialSectorCleanUppic.twitter.com/cPzDgYPBtt   \n",
       "3  #97DaysToVote #4MoreToDoMoreForYoupic.twitter....   \n",
       "4  We have cleaned the financial sector mess we i...   \n",
       "\n",
       "                                hashtags  \n",
       "0                                    NaN  \n",
       "1                                    NaN  \n",
       "2             #FinancialSectorCleanUppic  \n",
       "3  #97DaysToVote #4MoreToDoMoreForYoupic  \n",
       "4                #FinancialSectorCleanUp  "
      ]
     },
     "execution_count": 5,
     "metadata": {},
     "output_type": "execute_result"
    }
   ],
   "source": [
    "df_nana.drop(['to','geo','mentions','id','permalink'], axis=1,inplace=True)\n",
    "df_nana.head()"
   ]
  },
  {
   "cell_type": "code",
   "execution_count": 10,
   "metadata": {},
   "outputs": [],
   "source": [
    "def clean_tweet(tweet):\n",
    "    review = re.sub('[^a-zA-Z]', ' ', tweet) #replaces symbols, numbers with space\n",
    "    review = review.lower()\n",
    "    #review = review.split()\n",
    "    cleaned_tokens = []\n",
    "    for word, tag in pos_tag(word_tokenize(review)):\n",
    "        stop_words = stopwords.words('english')\n",
    "        if tag.startswith('NN'):\n",
    "            pos = 'n'\n",
    "        elif tag.startswith('VB'):\n",
    "            pos = 'v'\n",
    "        else:\n",
    "            pos = 'a'\n",
    "        lemmatizer = WordNetLemmatizer()\n",
    "        word = lemmatizer.lemmatize(word, pos)\n",
    "        \n",
    "        if len(word) > 0 and word not in string.punctuation and word.lower() not in stop_words:\n",
    "            cleaned_tokens.append(word.lower())\n",
    "    return ' '.join(cleaned_tokens)\n",
    "\n",
    "def get_tweet_sentiment(tweet): \n",
    "    # create TextBlob object of passed tweet text \n",
    "    analysis = TextBlob(clean_tweet(tweet)) \n",
    "    # set sentiment \n",
    "    if analysis.sentiment.polarity > 0: \n",
    "        return 'positive'\n",
    "    elif analysis.sentiment.polarity == 0: \n",
    "        return 'neutral'\n",
    "    else: \n",
    "        return 'negative'\n",
    "def main():\n",
    "    global sampled_tweets\n",
    "    sampled_tweets = []\n",
    "    for index,row in df_nana[['text']].iterrows():\n",
    "        parsed_tweet = {}\n",
    "        parsed_tweet['text'] = row['text']\n",
    "        parsed_tweet['sentiment'] = get_tweet_sentiment(row['text'])\n",
    "        \n",
    "        sampled_tweets.append(parsed_tweet) \n",
    "if __name__ == \"__main__\": \n",
    "    # calling main function \n",
    "    main() "
   ]
  },
  {
   "cell_type": "code",
   "execution_count": 11,
   "metadata": {},
   "outputs": [
    {
     "name": "stdout",
     "output_type": "stream",
     "text": [
      "103\n"
     ]
    },
    {
     "data": {
      "image/png": "[encoded data removed]",
      "text/plain": [
       "<Figure size 432x288 with 1 Axes>"
      ]
     },
     "metadata": {
      "needs_background": "light"
     },
     "output_type": "display_data"
    }
   ],
   "source": [
    "df2 = pd.DataFrame.from_dict(sampled_tweets)\n",
    "df2.head()\n",
    "def check(sentiment):\n",
    "    if sentiment == \"positive\":\n",
    "        return 1\n",
    "    elif sentiment == \"negative\":\n",
    "        return -1\n",
    "    else:\n",
    "        return 0\n",
    "\n",
    "counter_variable = 0\n",
    "y = []\n",
    "for index,row in df2.iterrows():\n",
    "    counter_variable  = counter_variable + check(row[1])\n",
    "    y.append(counter_variable)\n",
    "\n",
    "print(len(df2))\n",
    "x= range(len(df2))\n",
    "plt.plot(x,y)\n",
    "plt.title('General tweet sentiment')\n",
    "plt.xlabel('Number of tweets')\n",
    "plt.ylabel('Sentiment level')\n",
    "plt.show()"
   ]
  },
  {
   "cell_type": "markdown",
   "metadata": {},
   "source": [
    "###  M Bawumia"
   ]
  },
  {
   "cell_type": "code",
   "execution_count": 12,
   "metadata": {},
   "outputs": [
    {
     "data": {
      "text/html": [
       "<div>\n",
       "<style scoped>\n",
       "    .dataframe tbody tr th:only-of-type {\n",
       "        vertical-align: middle;\n",
       "    }\n",
       "\n",
       "    .dataframe tbody tr th {\n",
       "        vertical-align: top;\n",
       "    }\n",
       "\n",
       "    .dataframe thead th {\n",
       "        text-align: right;\n",
       "    }\n",
       "</style>\n",
       "<table border=\"1\" class=\"dataframe\">\n",
       "  <thead>\n",
       "    <tr style=\"text-align: right;\">\n",
       "      <th></th>\n",
       "      <th>date</th>\n",
       "      <th>username</th>\n",
       "      <th>replies</th>\n",
       "      <th>retweets</th>\n",
       "      <th>favorites</th>\n",
       "      <th>text</th>\n",
       "      <th>hashtags</th>\n",
       "    </tr>\n",
       "  </thead>\n",
       "  <tbody>\n",
       "    <tr>\n",
       "      <th>0</th>\n",
       "      <td>2020-09-05 13:12:39</td>\n",
       "      <td>MBawumia</td>\n",
       "      <td>0</td>\n",
       "      <td>24</td>\n",
       "      <td>97</td>\n",
       "      <td>The interchange when completed will improve in...</td>\n",
       "      <td>NaN</td>\n",
       "    </tr>\n",
       "    <tr>\n",
       "      <th>1</th>\n",
       "      <td>2020-09-05 13:12:38</td>\n",
       "      <td>MBawumia</td>\n",
       "      <td>13</td>\n",
       "      <td>62</td>\n",
       "      <td>356</td>\n",
       "      <td>I started day-3 of my Northern regional tour w...</td>\n",
       "      <td>NaN</td>\n",
       "    </tr>\n",
       "    <tr>\n",
       "      <th>2</th>\n",
       "      <td>2020-09-02 22:55:36</td>\n",
       "      <td>MBawumia</td>\n",
       "      <td>3</td>\n",
       "      <td>14</td>\n",
       "      <td>76</td>\n",
       "      <td>The NRAS will be seeded with GH¢100 million, t...</td>\n",
       "      <td>NaN</td>\n",
       "    </tr>\n",
       "    <tr>\n",
       "      <th>3</th>\n",
       "      <td>2020-09-02 22:55:36</td>\n",
       "      <td>MBawumia</td>\n",
       "      <td>2</td>\n",
       "      <td>14</td>\n",
       "      <td>102</td>\n",
       "      <td>... to President @NAkufoAddo and the @NPP_GH f...</td>\n",
       "      <td>NaN</td>\n",
       "    </tr>\n",
       "    <tr>\n",
       "      <th>4</th>\n",
       "      <td>2020-09-02 22:55:35</td>\n",
       "      <td>MBawumia</td>\n",
       "      <td>21</td>\n",
       "      <td>65</td>\n",
       "      <td>358</td>\n",
       "      <td>The issues of housing and cost of rent, as wel...</td>\n",
       "      <td>NaN</td>\n",
       "    </tr>\n",
       "  </tbody>\n",
       "</table>\n",
       "</div>"
      ],
      "text/plain": [
       "                  date  username  replies  retweets  favorites  \\\n",
       "0  2020-09-05 13:12:39  MBawumia        0        24         97   \n",
       "1  2020-09-05 13:12:38  MBawumia       13        62        356   \n",
       "2  2020-09-02 22:55:36  MBawumia        3        14         76   \n",
       "3  2020-09-02 22:55:36  MBawumia        2        14        102   \n",
       "4  2020-09-02 22:55:35  MBawumia       21        65        358   \n",
       "\n",
       "                                                text hashtags  \n",
       "0  The interchange when completed will improve in...      NaN  \n",
       "1  I started day-3 of my Northern regional tour w...      NaN  \n",
       "2  The NRAS will be seeded with GH¢100 million, t...      NaN  \n",
       "3  ... to President @NAkufoAddo and the @NPP_GH f...      NaN  \n",
       "4  The issues of housing and cost of rent, as wel...      NaN  "
      ]
     },
     "execution_count": 12,
     "metadata": {},
     "output_type": "execute_result"
    }
   ],
   "source": [
    "df_bawumia.drop(['to','geo','mentions','id','permalink'], axis=1,inplace=True)\n",
    "df_bawumia.head()"
   ]
  },
  {
   "cell_type": "code",
   "execution_count": 13,
   "metadata": {},
   "outputs": [],
   "source": [
    "def clean_tweet(tweet):\n",
    "    review = re.sub('[^a-zA-Z]', ' ', tweet) #replaces symbols, numbers with space\n",
    "    review = review.lower()\n",
    "    #review = review.split()\n",
    "    cleaned_tokens = []\n",
    "    for word, tag in pos_tag(word_tokenize(review)):\n",
    "        stop_words = stopwords.words('english')\n",
    "        if tag.startswith('NN'):\n",
    "            pos = 'n'\n",
    "        elif tag.startswith('VB'):\n",
    "            pos = 'v'\n",
    "        else:\n",
    "            pos = 'a'\n",
    "        lemmatizer = WordNetLemmatizer()\n",
    "        word = lemmatizer.lemmatize(word, pos)\n",
    "        \n",
    "        if len(word) > 0 and word not in string.punctuation and word.lower() not in stop_words:\n",
    "            cleaned_tokens.append(word.lower())\n",
    "    return ' '.join(cleaned_tokens)\n",
    "\n",
    "def get_tweet_sentiment(tweet): \n",
    "    # create TextBlob object of passed tweet text \n",
    "    analysis = TextBlob(clean_tweet(tweet)) \n",
    "    # set sentiment \n",
    "    if analysis.sentiment.polarity > 0: \n",
    "        return 'positive'\n",
    "    elif analysis.sentiment.polarity == 0: \n",
    "        return 'neutral'\n",
    "    else: \n",
    "        return 'negative'\n",
    "def main():\n",
    "    global sampled_tweets\n",
    "    sampled_tweets = []\n",
    "    for index,row in df_bawumia[['text']].iterrows():\n",
    "        parsed_tweet = {}\n",
    "        parsed_tweet['text'] = row['text']\n",
    "        parsed_tweet['sentiment'] = get_tweet_sentiment(row['text'])\n",
    "        \n",
    "        sampled_tweets.append(parsed_tweet) \n",
    "if __name__ == \"__main__\": \n",
    "    # calling main function \n",
    "    main() "
   ]
  },
  {
   "cell_type": "code",
   "execution_count": 14,
   "metadata": {},
   "outputs": [
    {
     "name": "stdout",
     "output_type": "stream",
     "text": [
      "55\n"
     ]
    },
    {
     "data": {
      "image/png": "[encoded data removed]",
      "text/plain": [
       "<Figure size 432x288 with 1 Axes>"
      ]
     },
     "metadata": {
      "needs_background": "light"
     },
     "output_type": "display_data"
    }
   ],
   "source": [
    "df2 = pd.DataFrame.from_dict(sampled_tweets)\n",
    "df2.head()\n",
    "def check(sentiment):\n",
    "    if sentiment == \"positive\":\n",
    "        return 1\n",
    "    elif sentiment == \"negative\":\n",
    "        return -1\n",
    "    else:\n",
    "        return 0\n",
    "\n",
    "counter_variable = 0\n",
    "y = []\n",
    "for index,row in df2.iterrows():\n",
    "    counter_variable  = counter_variable + check(row[1])\n",
    "    y.append(counter_variable)\n",
    "\n",
    "print(len(df2))\n",
    "x= range(len(df2))\n",
    "plt.plot(x,y)\n",
    "plt.title('General tweet sentiment')\n",
    "plt.xlabel('Number of tweets')\n",
    "plt.ylabel('Sentiment level')\n",
    "\n",
    "plt.show()"
   ]
  },
  {
   "cell_type": "markdown",
   "metadata": {},
   "source": [
    "## JD Mahama"
   ]
  },
  {
   "cell_type": "code",
   "execution_count": 15,
   "metadata": {},
   "outputs": [
    {
     "data": {
      "text/html": [
       "<div>\n",
       "<style scoped>\n",
       "    .dataframe tbody tr th:only-of-type {\n",
       "        vertical-align: middle;\n",
       "    }\n",
       "\n",
       "    .dataframe tbody tr th {\n",
       "        vertical-align: top;\n",
       "    }\n",
       "\n",
       "    .dataframe thead th {\n",
       "        text-align: right;\n",
       "    }\n",
       "</style>\n",
       "<table border=\"1\" class=\"dataframe\">\n",
       "  <thead>\n",
       "    <tr style=\"text-align: right;\">\n",
       "      <th></th>\n",
       "      <th>date</th>\n",
       "      <th>username</th>\n",
       "      <th>replies</th>\n",
       "      <th>retweets</th>\n",
       "      <th>favorites</th>\n",
       "      <th>text</th>\n",
       "      <th>hashtags</th>\n",
       "    </tr>\n",
       "  </thead>\n",
       "  <tbody>\n",
       "    <tr>\n",
       "      <th>0</th>\n",
       "      <td>2020-09-05 14:21:57</td>\n",
       "      <td>JDMahama</td>\n",
       "      <td>119</td>\n",
       "      <td>250</td>\n",
       "      <td>1469</td>\n",
       "      <td>#NDCmanifesto #JohnMahama2020 #JMandJane2020pi...</td>\n",
       "      <td>#NDCmanifesto #JohnMahama2020 #JMandJane2020pic</td>\n",
       "    </tr>\n",
       "    <tr>\n",
       "      <th>1</th>\n",
       "      <td>2020-09-05 08:13:51</td>\n",
       "      <td>JDMahama</td>\n",
       "      <td>27</td>\n",
       "      <td>107</td>\n",
       "      <td>561</td>\n",
       "      <td>An interview with John Mahama | Flagbearer of ...</td>\n",
       "      <td>NaN</td>\n",
       "    </tr>\n",
       "    <tr>\n",
       "      <th>2</th>\n",
       "      <td>2020-09-05 08:06:36</td>\n",
       "      <td>JDMahama</td>\n",
       "      <td>14</td>\n",
       "      <td>58</td>\n",
       "      <td>408</td>\n",
       "      <td>An interview with John Mahama | Flagbearer of ...</td>\n",
       "      <td>NaN</td>\n",
       "    </tr>\n",
       "    <tr>\n",
       "      <th>3</th>\n",
       "      <td>2020-09-04 20:15:23</td>\n",
       "      <td>JDMahama</td>\n",
       "      <td>9</td>\n",
       "      <td>56</td>\n",
       "      <td>319</td>\n",
       "      <td>John Mahama on the move | Courtesy call on Lam...</td>\n",
       "      <td>NaN</td>\n",
       "    </tr>\n",
       "    <tr>\n",
       "      <th>4</th>\n",
       "      <td>2020-09-04 17:15:33</td>\n",
       "      <td>JDMahama</td>\n",
       "      <td>9</td>\n",
       "      <td>49</td>\n",
       "      <td>305</td>\n",
       "      <td>John Mahama on the move | Courtesy call on Ull...</td>\n",
       "      <td>NaN</td>\n",
       "    </tr>\n",
       "  </tbody>\n",
       "</table>\n",
       "</div>"
      ],
      "text/plain": [
       "                  date  username  replies  retweets  favorites  \\\n",
       "0  2020-09-05 14:21:57  JDMahama      119       250       1469   \n",
       "1  2020-09-05 08:13:51  JDMahama       27       107        561   \n",
       "2  2020-09-05 08:06:36  JDMahama       14        58        408   \n",
       "3  2020-09-04 20:15:23  JDMahama        9        56        319   \n",
       "4  2020-09-04 17:15:33  JDMahama        9        49        305   \n",
       "\n",
       "                                                text  \\\n",
       "0  #NDCmanifesto #JohnMahama2020 #JMandJane2020pi...   \n",
       "1  An interview with John Mahama | Flagbearer of ...   \n",
       "2  An interview with John Mahama | Flagbearer of ...   \n",
       "3  John Mahama on the move | Courtesy call on Lam...   \n",
       "4  John Mahama on the move | Courtesy call on Ull...   \n",
       "\n",
       "                                          hashtags  \n",
       "0  #NDCmanifesto #JohnMahama2020 #JMandJane2020pic  \n",
       "1                                              NaN  \n",
       "2                                              NaN  \n",
       "3                                              NaN  \n",
       "4                                              NaN  "
      ]
     },
     "execution_count": 15,
     "metadata": {},
     "output_type": "execute_result"
    }
   ],
   "source": [
    "df_mahama.drop(['to','geo','mentions','id','permalink'], axis=1,inplace=True)\n",
    "df_mahama.head()"
   ]
  },
  {
   "cell_type": "code",
   "execution_count": 16,
   "metadata": {},
   "outputs": [],
   "source": [
    "def clean_tweet(tweet):\n",
    "    review = re.sub('[^a-zA-Z]', ' ', tweet) #replaces symbols, numbers with space\n",
    "    review = review.lower()\n",
    "    #review = review.split()\n",
    "    cleaned_tokens = []\n",
    "    for word, tag in pos_tag(word_tokenize(review)):\n",
    "        stop_words = stopwords.words('english')\n",
    "        if tag.startswith('NN'):\n",
    "            pos = 'n'\n",
    "        elif tag.startswith('VB'):\n",
    "            pos = 'v'\n",
    "        else:\n",
    "            pos = 'a'\n",
    "        lemmatizer = WordNetLemmatizer()\n",
    "        word = lemmatizer.lemmatize(word, pos)\n",
    "        \n",
    "        if len(word) > 0 and word not in string.punctuation and word.lower() not in stop_words:\n",
    "            cleaned_tokens.append(word.lower())\n",
    "    return ' '.join(cleaned_tokens)\n",
    "\n",
    "def get_tweet_sentiment(tweet): \n",
    "    # create TextBlob object of passed tweet text \n",
    "    analysis = TextBlob(clean_tweet(tweet)) \n",
    "    # set sentiment \n",
    "    if analysis.sentiment.polarity > 0: \n",
    "        return 'positive'\n",
    "    elif analysis.sentiment.polarity == 0: \n",
    "        return 'neutral'\n",
    "    else: \n",
    "        return 'negative'\n",
    "def main():\n",
    "    global sampled_tweets\n",
    "    sampled_tweets = []\n",
    "    for index,row in df_mahama[['text']].iterrows():\n",
    "        parsed_tweet = {}\n",
    "        parsed_tweet['text'] = row['text']\n",
    "        parsed_tweet['sentiment'] = get_tweet_sentiment(row['text'])\n",
    "        \n",
    "        sampled_tweets.append(parsed_tweet) \n",
    "if __name__ == \"__main__\": \n",
    "    # calling main function \n",
    "    main() "
   ]
  },
  {
   "cell_type": "code",
   "execution_count": 69,
   "metadata": {},
   "outputs": [
    {
     "name": "stdout",
     "output_type": "stream",
     "text": [
      "135\n"
     ]
    },
    {
     "data": {
      "image/png": "[encoded data removed]",
      "text/plain": [
       "<Figure size 432x288 with 1 Axes>"
      ]
     },
     "metadata": {
      "needs_background": "light"
     },
     "output_type": "display_data"
    }
   ],
   "source": [
    "df2 = pd.DataFrame.from_dict(sampled_tweets)\n",
    "df2.head()\n",
    "def check(sentiment):\n",
    "    if sentiment == \"positive\":\n",
    "        return 1\n",
    "    elif sentiment == \"negative\":\n",
    "        return -1\n",
    "    else:\n",
    "        return 0\n",
    "\n",
    "counter_variable = 0\n",
    "y = []\n",
    "for index,row in df2.iterrows():\n",
    "    counter_variable  = counter_variable + check(row[1])\n",
    "    y.append(counter_variable)\n",
    "\n",
    "print(len(df2))\n",
    "x= range(len(df2))\n",
    "plt.plot(x,y)\n",
    "plt.title('General tweet sentiment')\n",
    "plt.xlabel('Number of tweets')\n",
    "plt.ylabel('Sentiment level')\n",
    "\n",
    "plt.show()"
   ]
  },
  {
   "cell_type": "markdown",
   "metadata": {},
   "source": [
    "## Prof Jane Naana"
   ]
  },
  {
   "cell_type": "code",
   "execution_count": 17,
   "metadata": {},
   "outputs": [
    {
     "data": {
      "text/html": [
       "<div>\n",
       "<style scoped>\n",
       "    .dataframe tbody tr th:only-of-type {\n",
       "        vertical-align: middle;\n",
       "    }\n",
       "\n",
       "    .dataframe tbody tr th {\n",
       "        vertical-align: top;\n",
       "    }\n",
       "\n",
       "    .dataframe thead th {\n",
       "        text-align: right;\n",
       "    }\n",
       "</style>\n",
       "<table border=\"1\" class=\"dataframe\">\n",
       "  <thead>\n",
       "    <tr style=\"text-align: right;\">\n",
       "      <th></th>\n",
       "      <th>date</th>\n",
       "      <th>username</th>\n",
       "      <th>replies</th>\n",
       "      <th>retweets</th>\n",
       "      <th>favorites</th>\n",
       "      <th>text</th>\n",
       "      <th>hashtags</th>\n",
       "    </tr>\n",
       "  </thead>\n",
       "  <tbody>\n",
       "    <tr>\n",
       "      <th>0</th>\n",
       "      <td>2020-09-06 11:01:10</td>\n",
       "      <td>NJOAgyemang</td>\n",
       "      <td>14</td>\n",
       "      <td>112</td>\n",
       "      <td>640</td>\n",
       "      <td>#JMandJane2020pic.twitter.com/yhNjdDgkpd</td>\n",
       "      <td>#JMandJane2020pic</td>\n",
       "    </tr>\n",
       "    <tr>\n",
       "      <th>1</th>\n",
       "      <td>2020-09-05 16:34:36</td>\n",
       "      <td>NJOAgyemang</td>\n",
       "      <td>16</td>\n",
       "      <td>129</td>\n",
       "      <td>805</td>\n",
       "      <td>NDC is opposed to the Public University Bill. ...</td>\n",
       "      <td>#JMandJane2020pic</td>\n",
       "    </tr>\n",
       "    <tr>\n",
       "      <th>2</th>\n",
       "      <td>2020-09-05 15:13:42</td>\n",
       "      <td>NJOAgyemang</td>\n",
       "      <td>13</td>\n",
       "      <td>72</td>\n",
       "      <td>450</td>\n",
       "      <td>#JMandJane2020pic.twitter.com/k9g9e2RvWa</td>\n",
       "      <td>#JMandJane2020pic</td>\n",
       "    </tr>\n",
       "    <tr>\n",
       "      <th>3</th>\n",
       "      <td>2020-09-05 11:28:32</td>\n",
       "      <td>NJOAgyemang</td>\n",
       "      <td>16</td>\n",
       "      <td>103</td>\n",
       "      <td>732</td>\n",
       "      <td>It’s our time as women. We must take advantage...</td>\n",
       "      <td>#JMandJane2020pic</td>\n",
       "    </tr>\n",
       "    <tr>\n",
       "      <th>4</th>\n",
       "      <td>2020-09-04 21:48:48</td>\n",
       "      <td>NJOAgyemang</td>\n",
       "      <td>78</td>\n",
       "      <td>224</td>\n",
       "      <td>1428</td>\n",
       "      <td>My convoy has not been involved in an accident...</td>\n",
       "      <td>#JMandJane2020</td>\n",
       "    </tr>\n",
       "  </tbody>\n",
       "</table>\n",
       "</div>"
      ],
      "text/plain": [
       "                  date     username  replies  retweets  favorites  \\\n",
       "0  2020-09-06 11:01:10  NJOAgyemang       14       112        640   \n",
       "1  2020-09-05 16:34:36  NJOAgyemang       16       129        805   \n",
       "2  2020-09-05 15:13:42  NJOAgyemang       13        72        450   \n",
       "3  2020-09-05 11:28:32  NJOAgyemang       16       103        732   \n",
       "4  2020-09-04 21:48:48  NJOAgyemang       78       224       1428   \n",
       "\n",
       "                                                text           hashtags  \n",
       "0           #JMandJane2020pic.twitter.com/yhNjdDgkpd  #JMandJane2020pic  \n",
       "1  NDC is opposed to the Public University Bill. ...  #JMandJane2020pic  \n",
       "2           #JMandJane2020pic.twitter.com/k9g9e2RvWa  #JMandJane2020pic  \n",
       "3  It’s our time as women. We must take advantage...  #JMandJane2020pic  \n",
       "4  My convoy has not been involved in an accident...     #JMandJane2020  "
      ]
     },
     "execution_count": 17,
     "metadata": {},
     "output_type": "execute_result"
    }
   ],
   "source": [
    "df_jane.drop(['to','geo','mentions','id','permalink'], axis=1,inplace=True)\n",
    "df_jane.head()"
   ]
  },
  {
   "cell_type": "code",
   "execution_count": 18,
   "metadata": {},
   "outputs": [],
   "source": [
    "def clean_tweet(tweet):\n",
    "    review = re.sub('[^a-zA-Z]', ' ', tweet) #replaces symbols, numbers with space\n",
    "    review = review.lower()\n",
    "    #review = review.split()\n",
    "    cleaned_tokens = []\n",
    "    for word, tag in pos_tag(word_tokenize(review)):\n",
    "        stop_words = stopwords.words('english')\n",
    "        if tag.startswith('NN'):\n",
    "            pos = 'n'\n",
    "        elif tag.startswith('VB'):\n",
    "            pos = 'v'\n",
    "        else:\n",
    "            pos = 'a'\n",
    "        lemmatizer = WordNetLemmatizer()\n",
    "        word = lemmatizer.lemmatize(word, pos)\n",
    "        \n",
    "        if len(word) > 0 and word not in string.punctuation and word.lower() not in stop_words:\n",
    "            cleaned_tokens.append(word.lower())\n",
    "    return ' '.join(cleaned_tokens)\n",
    "\n",
    "def get_tweet_sentiment(tweet): \n",
    "    # create TextBlob object of passed tweet text \n",
    "    analysis = TextBlob(clean_tweet(tweet)) \n",
    "    # set sentiment \n",
    "    if analysis.sentiment.polarity > 0: \n",
    "        return 'positive'\n",
    "    elif analysis.sentiment.polarity == 0: \n",
    "        return 'neutral'\n",
    "    else: \n",
    "        return 'negative'\n",
    "def main():\n",
    "    global sampled_tweets\n",
    "    sampled_tweets = []\n",
    "    for index,row in df_jane[['text']].iterrows():\n",
    "        parsed_tweet = {}\n",
    "        parsed_tweet['text'] = row['text']\n",
    "        parsed_tweet['sentiment'] = get_tweet_sentiment(row['text'])\n",
    "        \n",
    "        sampled_tweets.append(parsed_tweet) \n",
    "if __name__ == \"__main__\": \n",
    "    # calling main function \n",
    "    main() "
   ]
  },
  {
   "cell_type": "code",
   "execution_count": 72,
   "metadata": {},
   "outputs": [
    {
     "name": "stdout",
     "output_type": "stream",
     "text": [
      "91\n"
     ]
    },
    {
     "data": {
      "image/png": "[encoded data removed]",
      "text/plain": [
       "<Figure size 432x288 with 1 Axes>"
      ]
     },
     "metadata": {
      "needs_background": "light"
     },
     "output_type": "display_data"
    }
   ],
   "source": [
    "df2 = pd.DataFrame.from_dict(sampled_tweets)\n",
    "df2.head()\n",
    "def check(sentiment):\n",
    "    if sentiment == \"positive\":\n",
    "        return 1\n",
    "    elif sentiment == \"negative\":\n",
    "        return -1\n",
    "    else:\n",
    "        return 0\n",
    "\n",
    "counter_variable = 0\n",
    "y = []\n",
    "for index,row in df2.iterrows():\n",
    "    counter_variable  = counter_variable + check(row[1])\n",
    "    y.append(counter_variable)\n",
    "\n",
    "print(len(df2))\n",
    "x= range(len(df2))\n",
    "plt.plot(x,y)\n",
    "plt.title('General tweet sentiment')\n",
    "plt.xlabel('Number of tweets')\n",
    "plt.ylabel('Sentiment level')\n",
    "\n",
    "plt.show()"
   ]
  },
  {
   "cell_type": "code",
   "execution_count": null,
   "metadata": {},
   "outputs": [],
   "source": []
  },
  {
   "cell_type": "code",
   "execution_count": 33,
   "metadata": {},
   "outputs": [],
   "source": []
  },
  {
   "cell_type": "code",
   "execution_count": null,
   "metadata": {},
   "outputs": [],
   "source": []
  },
  {
   "cell_type": "code",
   "execution_count": null,
   "metadata": {},
   "outputs": [],
   "source": []
  },
  {
   "cell_type": "code",
   "execution_count": null,
   "metadata": {},
   "outputs": [],
   "source": []
  },
  {
   "cell_type": "code",
   "execution_count": null,
   "metadata": {},
   "outputs": [],
   "source": []
  },
  {
   "cell_type": "code",
   "execution_count": null,
   "metadata": {},
   "outputs": [],
   "source": []
  }
 ],
 "metadata": {
  "kernelspec": {
   "display_name": "Python 3",
   "language": "python",
   "name": "python3"
  },
  "language_info": {
   "codemirror_mode": {
    "name": "ipython",
    "version": 3
   },
   "file_extension": ".py",
   "mimetype": "text/x-python",
   "name": "python",
   "nbconvert_exporter": "python",
   "pygments_lexer": "ipython3",
   "version": "3.7.6"
  }
 },
 "nbformat": 4,
 "nbformat_minor": 4
}
